{
 "cells": [
  {
   "cell_type": "code",
   "execution_count": 3,
   "metadata": {},
   "outputs": [
    {
     "data": {
      "application/javascript": [
       "IPython.notebook.set_autosave_interval(0)"
      ]
     },
     "metadata": {},
     "output_type": "display_data"
    },
    {
     "name": "stdout",
     "output_type": "stream",
     "text": [
      "Autosave disabled\n"
     ]
    }
   ],
   "source": [
    "%autosave 0"
   ]
  },
  {
   "cell_type": "markdown",
   "metadata": {},
   "source": [
    "### For turing users"
   ]
  },
  {
   "cell_type": "code",
   "execution_count": 4,
   "metadata": {},
   "outputs": [],
   "source": [
    "# !pip install discrete-optimization-extension --extra-index-url https://pip.dsrg.fh-zwickau.de\n",
    "# !pip install bias-variance-agent --extra-index-url https://pip.dsrg.fh-zwickau.de\n",
    "# !pip install imblearn\n",
    "# !pip install jutils with pip install --extra-index-url https://pip.dsrg.fh-zwickau.de"
   ]
  },
  {
   "cell_type": "code",
   "execution_count": 1,
   "metadata": {},
   "outputs": [],
   "source": [
    "import pandas as pd\n",
    "import numpy as np\n",
    "import matplotlib.pyplot as plt\n",
    "import seaborn as sns\n",
    "import tensorflow as tf\n",
    "\n",
    "from collections import defaultdict\n",
    "\n",
    "from tensorflow.keras import Sequential\n",
    "from tensorflow.keras.layers import Conv2D, Flatten, Dense\n",
    "\n",
    "from sklearn.model_selection import GridSearchCV, cross_validate, train_test_split\n",
    "from sklearn.preprocessing import LabelEncoder, MinMaxScaler, StandardScaler\n",
    "from sklearn.metrics import classification_report, confusion_matrix, SCORERS\n",
    "from sklearn.tree import DecisionTreeClassifier\n",
    "\n",
    "from imblearn.over_sampling import SMOTE\n",
    "\n",
    "import biva\n",
    "import dope\n",
    "from biva.agent import Agent, Mode\n",
    "\n",
    "# https://doc.dsrg.fh-zwickau.de/jutils/devel/\n",
    "from jutils.plot import Plot\n",
    "from jutils.html import HBox\n",
    "\n",
    "import warnings\n",
    "warnings.filterwarnings(\"ignore\")"
   ]
  },
  {
   "cell_type": "code",
   "execution_count": 2,
   "metadata": {},
   "outputs": [],
   "source": [
    "from biva.utils import set_gpu"
   ]
  },
  {
   "cell_type": "code",
   "execution_count": 3,
   "metadata": {},
   "outputs": [
    {
     "name": "stdout",
     "output_type": "stream",
     "text": [
      "Default GPU Device: /device:GPU:0\n",
      "WARNING:tensorflow:From d:\\dropbox\\py\\classtensorformat\\bias-variance-agent\\biva\\utils\\__init__.py:234: The name tf.keras.backend.set_session is deprecated. Please use tf.compat.v1.keras.backend.set_session instead.\n",
      "\n"
     ]
    },
    {
     "data": {
      "text/plain": [
       "<tensorflow.python.client.session.InteractiveSession at 0x1b616b96dc0>"
      ]
     },
     "execution_count": 3,
     "metadata": {},
     "output_type": "execute_result"
    }
   ],
   "source": [
    "set_gpu(per_process_gpu_memory_fraction=0.5)"
   ]
  },
  {
   "cell_type": "markdown",
   "metadata": {},
   "source": [
    "<a id=\"content\"></a>"
   ]
  },
  {
   "cell_type": "markdown",
   "metadata": {},
   "source": [
    "## Table of Contents\n",
    "\n",
    "* [Data](#data)\n",
    "* [Data preprocessing](#data_preprocess)\n",
    "* [General principle](#general)\n",
    "* [Usage](#usage)\n",
    "    * [Define Agent](#definition)\n",
    "    * [Define config](#config)\n",
    "    * [Train](#train)\n",
    "    * [Evaluate](#eval)\n",
    "    * [Optimize](#optimize)\n",
    "* [Features](#features)\n",
    "    * [Data partitions](#data_partitions)\n",
    "    * [Customize fit](#fit)\n",
    "    * [Preprocessing optimization](#preprocessing)\n",
    "    * [Custom evaluation](#evaluation)\n",
    "    * [Customize scan](#Customize)\n",
    "* [Examples](#examples)\n",
    "* [Unbalanced data](#Unbalanced_data)"
   ]
  },
  {
   "cell_type": "markdown",
   "metadata": {},
   "source": [
    "<a id=\"install\"></a>\n",
    "## [Data](#content) \n",
    "\n",
    "### [Bank Marketing Data Set](https://archive.ics.uci.edu/ml/datasets/bank+marketing)\n",
    "\n",
    "\n",
    "<font color=green> **The classification goal is to predict if the client will subscribe (yes/no) a term deposit (variable y).**</font>\n",
    "\n",
    "The data is related with direct marketing campaigns (phone calls) of a Portuguese banking institution. The classification goal is to predict if the client will subscribe a term deposit (variable y).\n",
    "\n",
    "\n",
    "\n",
    "**Data Set Information:**\n",
    "\n",
    "You will find the data in `data/bank-full.csv`. \n",
    "\n",
    "The data is related with direct marketing campaigns of a Portuguese banking institution. The marketing campaigns were based on phone calls. Often, more than one contact to the same client was required, in order to access if the product (bank term deposit) would be ('yes') or not ('no') subscribed.\n",
    "\n",
    "**Attribute Information:**\n",
    "\n",
    "`Input variables:`\n",
    "#### bank client data:\n",
    "+ 1 - age (numeric)\n",
    "+ 2 - job : type of job (categorical: 'admin.','blue-collar','entrepreneur','housemaid','management','retired','self-employed','services','student','technician','unemployed','unknown')\n",
    "+ 3 - marital : marital status (categorical: 'divorced','married','single','unknown'; note: 'divorced' means divorced or widowed)\n",
    "+ 4 - education (categorical: 'basic.4y','basic.6y','basic.9y','high.school','illiterate','professional.course','university.degree','unknown')\n",
    "+ 5 - default: has credit in default? (categorical: 'no','yes','unknown')\n",
    "+ 6 - housing: has housing loan? (categorical: 'no','yes','unknown')\n",
    "+ 7 - loan: has personal loan? (categorical: 'no','yes','unknown')\n",
    "\n",
    "#### related with the last contact of the current campaign:\n",
    "\n",
    "+ 8 - contact: contact communication type (categorical: 'cellular','telephone')\n",
    "+ 9 - month: last contact month of year (categorical: 'jan', 'feb', 'mar', ..., 'nov', 'dec')\n",
    "+ 10 - day_of_week: last contact day of the week (categorical: 'mon','tue','wed','thu','fri')\n",
    "+ 11 - duration: last contact duration, in seconds (numeric). Important note: this attribute highly affects the output target (e.g., if duration=0 then y='no'). Yet, the duration is not known before a call is performed. Also, after the end of the call y is obviously known. Thus, this input should only be included for benchmark purposes and should be discarded if the intention is to have a realistic predictive model.\n",
    "\n",
    "####  other attributes:\n",
    "+ 12 - campaign: number of contacts performed during this campaign and for this client (numeric, includes last contact)\n",
    "+ 13 - pdays: number of days that passed by after the client was last contacted from a previous campaign (numeric; 999 means client was not previously contacted)\n",
    "+ 14 - previous: number of contacts performed before this campaign and for this client (numeric)\n",
    "+ 15 - poutcome: outcome of the previous marketing campaign (categorical: 'failure','nonexistent','success')\n",
    "\n",
    "#### social and economic context attributes\n",
    "\n",
    "+ 16 - emp.var.rate: employment variation rate - quarterly indicator (numeric)\n",
    "+ 17 - cons.price.idx: consumer price index - monthly indicator (numeric)\n",
    "+ 18 - cons.conf.idx: consumer confidence index - monthly indicator (numeric)\n",
    "+ 19 - euribor3m: euribor 3 month rate - daily indicator (numeric)\n",
    "+ 20 - nr.employed: number of employees - quarterly indicator (numeric)\n",
    "\n",
    "#### Output variable (desired target):\n",
    "\n",
    "+ 21 - y - has the client subscribed a term deposit? (binary: 'yes','no')\n",
    "\n",
    "\n"
   ]
  },
  {
   "cell_type": "markdown",
   "metadata": {},
   "source": [
    "<a id=\"data_preprocess\"></a>\n",
    "## [Data preprocessing](#content) "
   ]
  },
  {
   "cell_type": "code",
   "execution_count": 4,
   "metadata": {
    "scrolled": true
   },
   "outputs": [],
   "source": [
    "from biva.preprocessing.selection import get_categorical_cols, get_numerical_cols"
   ]
  },
  {
   "cell_type": "code",
   "execution_count": 5,
   "metadata": {
    "scrolled": true
   },
   "outputs": [
    {
     "name": "stdout",
     "output_type": "stream",
     "text": [
      "categorical cols: ['loan', 'contact', 'education', 'month', 'job', 'y', 'housing', 'poutcome', 'day', 'default', 'marital']\n",
      "  numerical cols: ['age', 'balance', 'duration', 'campaign', 'pdays', 'previous']\n"
     ]
    }
   ],
   "source": [
    "RND_SEED = 0\n",
    "data = pd.read_csv('../../data/bank-full.csv', sep= ';')\n",
    "# data = pd.read_csv('../datasets/lecture/bank-full.csv', sep= ';')\n",
    "# data = pd.read_csv('../datasets/lecture/bank-additional-full.csv', sep=';')\n",
    "\n",
    "# Datatype changes\n",
    "data['day'] = data['day'].astype(str)\n",
    "\n",
    "categorical = get_categorical_cols(data)\n",
    "numerical = get_numerical_cols(data)\n",
    "print(f'categorical cols: {categorical}')\n",
    "print(f'  numerical cols: {numerical}')\n",
    "\n",
    "# Encoding the variables\n",
    "label_encoder = defaultdict(LabelEncoder)\n",
    "std_scaler = StandardScaler()\n",
    "mm_scaler = MinMaxScaler()\n",
    "\n",
    "df = data.copy()\n",
    "df[categorical] = data[categorical].apply(lambda x: label_encoder[x.name].fit_transform(x))\n",
    "df[numerical] = mm_scaler.fit_transform(df[numerical])\n",
    "df[\"balance\"] = std_scaler.fit_transform(df[[\"balance\"]])\n",
    "\n",
    "categorical.remove('y')\n",
    "\n",
    "X = df.drop(\"y\", 1)\n",
    "y = df.y"
   ]
  },
  {
   "cell_type": "code",
   "execution_count": 6,
   "metadata": {
    "scrolled": true
   },
   "outputs": [
    {
     "data": {
      "text/html": [
       "<div>\n",
       "<style scoped>\n",
       "    .dataframe tbody tr th:only-of-type {\n",
       "        vertical-align: middle;\n",
       "    }\n",
       "\n",
       "    .dataframe tbody tr th {\n",
       "        vertical-align: top;\n",
       "    }\n",
       "\n",
       "    .dataframe thead th {\n",
       "        text-align: right;\n",
       "    }\n",
       "</style>\n",
       "<table border=\"1\" class=\"dataframe\">\n",
       "  <thead>\n",
       "    <tr style=\"text-align: right;\">\n",
       "      <th></th>\n",
       "      <th>age</th>\n",
       "      <th>job</th>\n",
       "      <th>marital</th>\n",
       "      <th>education</th>\n",
       "      <th>default</th>\n",
       "      <th>balance</th>\n",
       "      <th>housing</th>\n",
       "      <th>loan</th>\n",
       "      <th>contact</th>\n",
       "      <th>day</th>\n",
       "      <th>month</th>\n",
       "      <th>duration</th>\n",
       "      <th>campaign</th>\n",
       "      <th>pdays</th>\n",
       "      <th>previous</th>\n",
       "      <th>poutcome</th>\n",
       "      <th>y</th>\n",
       "    </tr>\n",
       "  </thead>\n",
       "  <tbody>\n",
       "    <tr>\n",
       "      <th>0</th>\n",
       "      <td>0.519481</td>\n",
       "      <td>4</td>\n",
       "      <td>1</td>\n",
       "      <td>2</td>\n",
       "      <td>0</td>\n",
       "      <td>0.256419</td>\n",
       "      <td>1</td>\n",
       "      <td>0</td>\n",
       "      <td>2</td>\n",
       "      <td>26</td>\n",
       "      <td>8</td>\n",
       "      <td>0.053070</td>\n",
       "      <td>0.0</td>\n",
       "      <td>0.0</td>\n",
       "      <td>0.0</td>\n",
       "      <td>3</td>\n",
       "      <td>0</td>\n",
       "    </tr>\n",
       "    <tr>\n",
       "      <th>1</th>\n",
       "      <td>0.337662</td>\n",
       "      <td>9</td>\n",
       "      <td>2</td>\n",
       "      <td>1</td>\n",
       "      <td>0</td>\n",
       "      <td>-0.437895</td>\n",
       "      <td>1</td>\n",
       "      <td>0</td>\n",
       "      <td>2</td>\n",
       "      <td>26</td>\n",
       "      <td>8</td>\n",
       "      <td>0.030704</td>\n",
       "      <td>0.0</td>\n",
       "      <td>0.0</td>\n",
       "      <td>0.0</td>\n",
       "      <td>3</td>\n",
       "      <td>0</td>\n",
       "    </tr>\n",
       "    <tr>\n",
       "      <th>2</th>\n",
       "      <td>0.194805</td>\n",
       "      <td>2</td>\n",
       "      <td>1</td>\n",
       "      <td>1</td>\n",
       "      <td>0</td>\n",
       "      <td>-0.446762</td>\n",
       "      <td>1</td>\n",
       "      <td>1</td>\n",
       "      <td>2</td>\n",
       "      <td>26</td>\n",
       "      <td>8</td>\n",
       "      <td>0.015453</td>\n",
       "      <td>0.0</td>\n",
       "      <td>0.0</td>\n",
       "      <td>0.0</td>\n",
       "      <td>3</td>\n",
       "      <td>0</td>\n",
       "    </tr>\n",
       "    <tr>\n",
       "      <th>3</th>\n",
       "      <td>0.376623</td>\n",
       "      <td>1</td>\n",
       "      <td>1</td>\n",
       "      <td>3</td>\n",
       "      <td>0</td>\n",
       "      <td>0.047205</td>\n",
       "      <td>1</td>\n",
       "      <td>0</td>\n",
       "      <td>2</td>\n",
       "      <td>26</td>\n",
       "      <td>8</td>\n",
       "      <td>0.018707</td>\n",
       "      <td>0.0</td>\n",
       "      <td>0.0</td>\n",
       "      <td>0.0</td>\n",
       "      <td>3</td>\n",
       "      <td>0</td>\n",
       "    </tr>\n",
       "    <tr>\n",
       "      <th>4</th>\n",
       "      <td>0.194805</td>\n",
       "      <td>11</td>\n",
       "      <td>2</td>\n",
       "      <td>3</td>\n",
       "      <td>0</td>\n",
       "      <td>-0.447091</td>\n",
       "      <td>0</td>\n",
       "      <td>0</td>\n",
       "      <td>2</td>\n",
       "      <td>26</td>\n",
       "      <td>8</td>\n",
       "      <td>0.040260</td>\n",
       "      <td>0.0</td>\n",
       "      <td>0.0</td>\n",
       "      <td>0.0</td>\n",
       "      <td>3</td>\n",
       "      <td>0</td>\n",
       "    </tr>\n",
       "  </tbody>\n",
       "</table>\n",
       "</div>"
      ],
      "text/plain": [
       "        age  job  marital  education  default   balance  housing  loan  \\\n",
       "0  0.519481    4        1          2        0  0.256419        1     0   \n",
       "1  0.337662    9        2          1        0 -0.437895        1     0   \n",
       "2  0.194805    2        1          1        0 -0.446762        1     1   \n",
       "3  0.376623    1        1          3        0  0.047205        1     0   \n",
       "4  0.194805   11        2          3        0 -0.447091        0     0   \n",
       "\n",
       "   contact  day  month  duration  campaign  pdays  previous  poutcome  y  \n",
       "0        2   26      8  0.053070       0.0    0.0       0.0         3  0  \n",
       "1        2   26      8  0.030704       0.0    0.0       0.0         3  0  \n",
       "2        2   26      8  0.015453       0.0    0.0       0.0         3  0  \n",
       "3        2   26      8  0.018707       0.0    0.0       0.0         3  0  \n",
       "4        2   26      8  0.040260       0.0    0.0       0.0         3  0  "
      ]
     },
     "execution_count": 6,
     "metadata": {},
     "output_type": "execute_result"
    }
   ],
   "source": [
    "df.head()"
   ]
  },
  {
   "cell_type": "markdown",
   "metadata": {},
   "source": [
    "<a id=\"general\"></a>\n",
    "# [General principle](#content) "
   ]
  },
  {
   "cell_type": "markdown",
   "metadata": {},
   "source": [
    "```python\n",
    "from biva.agent import Agent\n",
    "\n",
    "def build_model(config):\n",
    "    # ... Model creation using dictionary with hyperparams config \n",
    "    return model\n",
    "\n",
    "def fit_func(model, config, x_train, y_train, validation_data, **kwargs):\n",
    "    # config - optimizible hyperparams\n",
    "    # kwargs - other attrs for fit passed from train_model_on, optional\n",
    "    result = model.fit(x_train, y_train, validation_data, attr1=config['attr1'], attr2=kwargs['attr2'])\n",
    "    bias, variance = result['bias'], result['variance']\n",
    "    return bias, variance\n",
    "    \n",
    "def preprocess(config, *data):\n",
    "    # X and Y variables retrieval\n",
    "    # Preprocessing steps with optimizible params like different thresholds for outlier detection ect.\n",
    "    x, y = df.drop(\"y\", 1), df.y\n",
    "    return x, y\n",
    "\n",
    "# Instantiate object and off we go\n",
    "agnt = Agent(X, Y, preprocessing=preprocess, build_model=build_model, fit_func=fit_func)\n",
    "\n",
    "# train model\n",
    "agnt.train_model_on(**kwargs)\n",
    "\n",
    "# optimize\n",
    "agnt.scan('acs', **kwargs)\n",
    "```"
   ]
  },
  {
   "cell_type": "markdown",
   "metadata": {},
   "source": [
    "<a id=\"usage\"></a>\n",
    "# [1. Usage](#content) \n",
    "\n",
    "#### XGB example"
   ]
  },
  {
   "cell_type": "code",
   "execution_count": 7,
   "metadata": {},
   "outputs": [],
   "source": [
    "from biva.agent import Agent"
   ]
  },
  {
   "cell_type": "code",
   "execution_count": 8,
   "metadata": {},
   "outputs": [],
   "source": [
    "from xgboost import XGBClassifier\n",
    "    \n",
    "def build_model_xgb(config):\n",
    "    model = XGBClassifier(**config, random_state=RND_SEED, verbosity=0)\n",
    "    return model"
   ]
  },
  {
   "cell_type": "code",
   "execution_count": 9,
   "metadata": {
    "scrolled": true
   },
   "outputs": [
    {
     "data": {
      "text/html": [
       "<div>\n",
       "<style scoped>\n",
       "    .dataframe tbody tr th:only-of-type {\n",
       "        vertical-align: middle;\n",
       "    }\n",
       "\n",
       "    .dataframe tbody tr th {\n",
       "        vertical-align: top;\n",
       "    }\n",
       "\n",
       "    .dataframe thead th {\n",
       "        text-align: right;\n",
       "    }\n",
       "</style>\n",
       "<table border=\"1\" class=\"dataframe\">\n",
       "  <thead>\n",
       "    <tr style=\"text-align: right;\">\n",
       "      <th></th>\n",
       "      <th>age</th>\n",
       "      <th>job</th>\n",
       "      <th>marital</th>\n",
       "      <th>education</th>\n",
       "      <th>default</th>\n",
       "      <th>balance</th>\n",
       "      <th>housing</th>\n",
       "      <th>loan</th>\n",
       "      <th>contact</th>\n",
       "      <th>day</th>\n",
       "      <th>month</th>\n",
       "      <th>duration</th>\n",
       "      <th>campaign</th>\n",
       "      <th>pdays</th>\n",
       "      <th>previous</th>\n",
       "      <th>poutcome</th>\n",
       "      <th>y</th>\n",
       "    </tr>\n",
       "  </thead>\n",
       "  <tbody>\n",
       "    <tr>\n",
       "      <th>0</th>\n",
       "      <td>0.519481</td>\n",
       "      <td>4</td>\n",
       "      <td>1</td>\n",
       "      <td>2</td>\n",
       "      <td>0</td>\n",
       "      <td>0.256419</td>\n",
       "      <td>1</td>\n",
       "      <td>0</td>\n",
       "      <td>2</td>\n",
       "      <td>26</td>\n",
       "      <td>8</td>\n",
       "      <td>0.053070</td>\n",
       "      <td>0.0</td>\n",
       "      <td>0.0</td>\n",
       "      <td>0.0</td>\n",
       "      <td>3</td>\n",
       "      <td>0</td>\n",
       "    </tr>\n",
       "    <tr>\n",
       "      <th>1</th>\n",
       "      <td>0.337662</td>\n",
       "      <td>9</td>\n",
       "      <td>2</td>\n",
       "      <td>1</td>\n",
       "      <td>0</td>\n",
       "      <td>-0.437895</td>\n",
       "      <td>1</td>\n",
       "      <td>0</td>\n",
       "      <td>2</td>\n",
       "      <td>26</td>\n",
       "      <td>8</td>\n",
       "      <td>0.030704</td>\n",
       "      <td>0.0</td>\n",
       "      <td>0.0</td>\n",
       "      <td>0.0</td>\n",
       "      <td>3</td>\n",
       "      <td>0</td>\n",
       "    </tr>\n",
       "    <tr>\n",
       "      <th>2</th>\n",
       "      <td>0.194805</td>\n",
       "      <td>2</td>\n",
       "      <td>1</td>\n",
       "      <td>1</td>\n",
       "      <td>0</td>\n",
       "      <td>-0.446762</td>\n",
       "      <td>1</td>\n",
       "      <td>1</td>\n",
       "      <td>2</td>\n",
       "      <td>26</td>\n",
       "      <td>8</td>\n",
       "      <td>0.015453</td>\n",
       "      <td>0.0</td>\n",
       "      <td>0.0</td>\n",
       "      <td>0.0</td>\n",
       "      <td>3</td>\n",
       "      <td>0</td>\n",
       "    </tr>\n",
       "    <tr>\n",
       "      <th>3</th>\n",
       "      <td>0.376623</td>\n",
       "      <td>1</td>\n",
       "      <td>1</td>\n",
       "      <td>3</td>\n",
       "      <td>0</td>\n",
       "      <td>0.047205</td>\n",
       "      <td>1</td>\n",
       "      <td>0</td>\n",
       "      <td>2</td>\n",
       "      <td>26</td>\n",
       "      <td>8</td>\n",
       "      <td>0.018707</td>\n",
       "      <td>0.0</td>\n",
       "      <td>0.0</td>\n",
       "      <td>0.0</td>\n",
       "      <td>3</td>\n",
       "      <td>0</td>\n",
       "    </tr>\n",
       "    <tr>\n",
       "      <th>4</th>\n",
       "      <td>0.194805</td>\n",
       "      <td>11</td>\n",
       "      <td>2</td>\n",
       "      <td>3</td>\n",
       "      <td>0</td>\n",
       "      <td>-0.447091</td>\n",
       "      <td>0</td>\n",
       "      <td>0</td>\n",
       "      <td>2</td>\n",
       "      <td>26</td>\n",
       "      <td>8</td>\n",
       "      <td>0.040260</td>\n",
       "      <td>0.0</td>\n",
       "      <td>0.0</td>\n",
       "      <td>0.0</td>\n",
       "      <td>3</td>\n",
       "      <td>0</td>\n",
       "    </tr>\n",
       "  </tbody>\n",
       "</table>\n",
       "</div>"
      ],
      "text/plain": [
       "        age  job  marital  education  default   balance  housing  loan  \\\n",
       "0  0.519481    4        1          2        0  0.256419        1     0   \n",
       "1  0.337662    9        2          1        0 -0.437895        1     0   \n",
       "2  0.194805    2        1          1        0 -0.446762        1     1   \n",
       "3  0.376623    1        1          3        0  0.047205        1     0   \n",
       "4  0.194805   11        2          3        0 -0.447091        0     0   \n",
       "\n",
       "   contact  day  month  duration  campaign  pdays  previous  poutcome  y  \n",
       "0        2   26      8  0.053070       0.0    0.0       0.0         3  0  \n",
       "1        2   26      8  0.030704       0.0    0.0       0.0         3  0  \n",
       "2        2   26      8  0.015453       0.0    0.0       0.0         3  0  \n",
       "3        2   26      8  0.018707       0.0    0.0       0.0         3  0  \n",
       "4        2   26      8  0.040260       0.0    0.0       0.0         3  0  "
      ]
     },
     "execution_count": 9,
     "metadata": {},
     "output_type": "execute_result"
    }
   ],
   "source": [
    "df.head()"
   ]
  },
  {
   "cell_type": "markdown",
   "metadata": {},
   "source": [
    "<a id=\"definition\"></a>\n",
    "## [1.1 Define Agent](#content) with `build_model` attibute and data.\n",
    "\n",
    "In case of sklearn models and simple keras models this is pretty much everything we need to get going.</span>"
   ]
  },
  {
   "cell_type": "code",
   "execution_count": 10,
   "metadata": {},
   "outputs": [],
   "source": [
    "agnt_xgb = Agent(X, y, build_model=build_model_xgb)"
   ]
  },
  {
   "cell_type": "markdown",
   "metadata": {},
   "source": [
    "<a id=\"config\"></a>\n",
    "## [1.2 Define config](#content) dictionary that cointains hyperparameters of our model.\n",
    "\n",
    "`config` is always passed to `build_model` function"
   ]
  },
  {
   "cell_type": "code",
   "execution_count": 11,
   "metadata": {},
   "outputs": [],
   "source": [
    "config_xgb = {\n",
    "    'objective': 'binary:logistic', 'tree_method':'gpu_hist', 'use_label_encoder': False\n",
    "}"
   ]
  },
  {
   "cell_type": "markdown",
   "metadata": {},
   "source": [
    "<a id=\"train\"></a>\n",
    "## [1.3 Train](#content) \n",
    "\n",
    "***train_model_on*** method is used to train and validate model on specific data partitions.\\\n",
    "It can be used to train model using certain model `config` to see the effect of different hyperparameters on performance or just to estimate current performance using [Hold-Out](https://vitalflux.com/hold-out-method-for-training-machine-learning-model/) method."
   ]
  },
  {
   "cell_type": "code",
   "execution_count": 12,
   "metadata": {
    "scrolled": true
   },
   "outputs": [
    {
     "name": "stdout",
     "output_type": "stream",
     "text": [
      "Training on 40689 samples, testing on 4522 samples.\n",
      "                     | loss       | val_loss\n",
      "\u001B[36mTraining session: 1  | 9.5230e-01 | 9.1508e-01**\u001B[0m\n",
      "-----------------------------------------------\n",
      "Average values:      | 9.5230e-01 | 9.1508e-01\n",
      "\n"
     ]
    }
   ],
   "source": [
    "result, model = agnt_xgb.train_model_on(config_xgb)"
   ]
  },
  {
   "cell_type": "markdown",
   "metadata": {},
   "source": [
    "<a id=\"eval\"></a>\n",
    "## [1.4 Evaluate](#content)\n",
    "\n",
    "***eval_model_cv*** uses Cross-validation to estimate bias and variance.\\\n",
    "It applies `train_model_on` on each subset of data partitions and the averages the result. \n",
    "This is done in paralell by default. Use `parallelize` argument to change the type of computation.\n",
    "\n",
    "```python\n",
    "parallelize: str in {‘processes’, ‘threads’} or None or bool. 'threads' by default.\n",
    "                     Whether to use parallel computing for training on subpartitions.\n",
    "                     Also accepts soft hint as string to choose the default backend.\n",
    "```"
   ]
  },
  {
   "cell_type": "code",
   "execution_count": 13,
   "metadata": {},
   "outputs": [
    {
     "name": "stdout",
     "output_type": "stream",
     "text": [
      "5-KFold Evaluation on 40689 samples.\n",
      "                   | loss       | val_loss\n",
      "Data partition: 1  | 9.5493e-01 | 9.0096e-01\n",
      "Data partition: 2  | 9.5456e-01 | 9.0944e-01\n",
      "Data partition: 5  | 9.5524e-01 | 9.0709e-01\n",
      "Data partition: 4  | 9.5601e-01 | 9.0206e-01\n",
      "Data partition: 3  | 9.5671e-01 | 9.0587e-01\n",
      "---------------------------------------------\n",
      "\u001B[36mAverage values:    | 9.5549e-01 | 9.0508e-01\n",
      "\n",
      "\u001B[0m"
     ]
    }
   ],
   "source": [
    "bias, variance = agnt_xgb.eval_model_cv(verbose=2)"
   ]
  },
  {
   "cell_type": "markdown",
   "metadata": {},
   "source": [
    "<a id=\"optimize\"></a>\n",
    "## [1.5 Optimize](#content) with *scan*\n",
    "\n",
    "**1) Define parameter space using ```dope.Mode```**"
   ]
  },
  {
   "cell_type": "code",
   "execution_count": 14,
   "metadata": {
    "scrolled": false
   },
   "outputs": [
    {
     "name": "stdout",
     "output_type": "stream",
     "text": [
      "'n_estimators' : [50, 200] (2), \n",
      "'gamma'        : [0, 1] (2), \n",
      "'subsample'    : [0.    0.125 0.25  0.375 0.5   0.625 0.75  0.875 1.   ] (9)\n",
      "Total number of grid cofigurations: 3.60e+01 | 36\n",
      "Total number of acs  cofigurations: 1.30e+01 | 13\n"
     ]
    }
   ],
   "source": [
    "from biva.agent import Mode\n",
    "from biva.utils import format_parameter_space\n",
    "\n",
    "subsample = np.linspace(0, 1, 9)\n",
    "params = [\n",
    "    Mode('n_estimators', values=[50, 200], mode_optimizer=\"gridsearch\"),\n",
    "    Mode('gamma',        values=[0, 1],    mode_optimizer=\"bayessearch\", init_points=4, n_trials=3),\n",
    "    Mode('subsample',    values=subsample, mode_optimizer=\"randomsearch\", random_samples=2),\n",
    "]\n",
    "\n",
    "print(format_parameter_space(params))"
   ]
  },
  {
   "cell_type": "markdown",
   "metadata": {},
   "source": [
    "**2) Call ```Agent().scan()``` and specify search type `optimizer` of your choice.**\n",
    "\n",
    "Different optimizers require specific arguments, but error message will let you know if somethibng is missing.\\\n",
    "For more info see `scan` and `dope` docs.\n",
    "\n",
    "```python\n",
    "optimizer (str): Defines type of hyperparameter search to perform.\n",
    "                     Can be equal to: \"acs\"         : Adaptive cross search,\n",
    "                                      \"grid\"        : Grid search\n",
    "                                      \"random\"      : Random search,\n",
    "                                      \"bayes\"       : Bayes search,\n",
    "                                      \"halving_grid\": Halving grid search.\n",
    "```"
   ]
  },
  {
   "cell_type": "code",
   "execution_count": 33,
   "metadata": {
    "scrolled": false
   },
   "outputs": [
    {
     "name": "stdout",
     "output_type": "stream",
     "text": [
      "\"iterations\" positional argument is missing. Using default value: 1\n",
      "\"order\" positional argument is missing. Using default order: ['n_estimators', 'gamma', 'subsample']\n",
      "acs\n",
      "# Iteration: 1\n",
      "\n",
      "GridSearch for Hyperparameter: n_estimators\n",
      "Current configuration: {'objective': binary:logistic, 'tree_method': gpu_hist, 'use_label_encoder': False, 'n_estimators': 50, 'gamma': 0, 'subsample': 0.000000e+00}\n",
      " Variance: -8.824497e-01, Bias: -8.824498e-01, HyperParams: {'n_estimators': 50}, Time: 0:00:01\n",
      " Variance: -8.824500e-01, Bias: -8.824498e-01, HyperParams: {'n_estimators': 200}, Time: 0:00:04\n",
      "Max. Variance: -8.824500e-01, Best HyperParams: {'n_estimators': 200}, Time: 0:00:06\n",
      "\n",
      "BayesSearch for Hyperparameter: gamma\n",
      "Current configuration: {'objective': binary:logistic, 'tree_method': gpu_hist, 'use_label_encoder': False, 'n_estimators': 200, 'gamma': 0, 'subsample': 0.000000e+00}\n",
      " Variance: -8.824498e-01, Bias: -8.824498e-01, HyperParams: {'gamma': 2.470818e-01}, Time: 0:00:04\n",
      " Variance: -8.824498e-01, Bias: -8.824498e-01, HyperParams: {'gamma': 2.809398e-01}, Time: 0:00:05\n",
      " Variance: -8.824499e-01, Bias: -8.824498e-01, HyperParams: {'gamma': 9.708616e-02}, Time: 0:00:05\n",
      " Variance: -8.824498e-01, Bias: -8.824498e-01, HyperParams: {'gamma': 4.163907e-01}, Time: 0:00:05\n",
      " Variance: -8.824500e-01, Bias: -8.824498e-01, HyperParams: {'gamma': 9.711138e-02}, Time: 0:00:04\n",
      " Variance: -8.824497e-01, Bias: -8.824498e-01, HyperParams: {'gamma': 2.794383e-01}, Time: 0:00:05\n",
      " Variance: -8.824497e-01, Bias: -8.824498e-01, HyperParams: {'gamma': 9.716600e-02}, Time: 0:00:04\n",
      "Max. Variance: -8.824500e-01, Best HyperParams: {'gamma': 9.711138e-02}, Time: 0:00:35\n",
      "\n",
      "RandomSearch for Hyperparameter: subsample\n",
      "Current configuration: {'objective': binary:logistic, 'tree_method': gpu_hist, 'use_label_encoder': False, 'n_estimators': 200, 'gamma': 9.711138e-02, 'subsample': 0.000000e+00}\n",
      " Variance: -9.001695e-01, Bias: -9.759886e-01, HyperParams: {'subsample': 5.000000e-01}, Time: 0:00:41\n",
      " Variance: -9.032661e-01, Bias: -9.825567e-01, HyperParams: {'subsample': 8.750000e-01}, Time: 0:00:46\n",
      "Max. Variance: -9.032661e-01, Best HyperParams: {'subsample': 0.875}, Time: 0:01:27\n",
      "\n",
      "Best config: {'objective': 'binary:logistic', 'tree_method': 'gpu_hist', 'use_label_encoder': False, 'n_estimators': 200, 'gamma': 0.09711138223313553, 'subsample': 0.875}\n",
      "time elapsed: 0:02:08\n",
      "Wall time: 2min 8s\n"
     ]
    }
   ],
   "source": [
    "%%time\n",
    "variance, bconf, model = agnt_xgb.scan('acs', parameter_space=params, config=config_xgb, strategy='max')"
   ]
  },
  {
   "cell_type": "markdown",
   "metadata": {},
   "source": [
    "`bconf` contains your best hyperparameters"
   ]
  },
  {
   "cell_type": "markdown",
   "metadata": {},
   "source": [
    "<a id=\"features\"></a>\n",
    "# [2. Features](#content)"
   ]
  },
  {
   "cell_type": "markdown",
   "metadata": {},
   "source": [
    "<a id=\"data_partitions\"></a>\n",
    "##  2.1 You can use different [data partitions](#content) for training and scanning\n",
    "\n",
    "by specifying `data_partitions` argument.\n",
    "\n",
    "<br>\n",
    "<img src=\"../images/data_partitions.png\" alt=\"Data partitions\" width=\"500\" >"
   ]
  },
  {
   "cell_type": "markdown",
   "metadata": {},
   "source": [
    "***Data partition attributes:***\n",
    "\n",
    "    train_data: Train data. Usually 80-90% of entire data.\n",
    "                Used to train or evaluate model.\n",
    "    train_y:    Train target data. (Might not be present)\n",
    "    train_xy:   a tuple (train_data, train_y)\n",
    "\n",
    "    test_data:  Test data. Data that model has never seen during training.\n",
    "                Used for final model testing.\n",
    "    test_y:     Test target data.\n",
    "    test_xy:    a tuple (test_data, test_y)\n",
    "    \n",
    "    \n",
    "    val_train_data:  Train data. 80-90% of train_data.\n",
    "    val_train_y:     Train target data. 80-90% of train_y.\n",
    "    val_train_xy:    a tuple (val_train_data, val_train_y)\n",
    "\n",
    "    val_data:  Validation data. 10-20%(val_split) of train_data.\n",
    "    val_y:     Validation target data. 10-20% of train_y.\n",
    "    val_xy:    a tuple (val_data, val_y)"
   ]
  },
  {
   "cell_type": "markdown",
   "metadata": {},
   "source": [
    "NOTE: in **train_model_on** `data_partitions` selects a *PAIR* of data partitions. One for training and one for testing.\\\n",
    "In **eval_model_cv**, however, we don't need a testing partitions as we are using cross-validation so it selects only one partition which is latter splitted n_fold times\n",
    "\n",
    "Final model performance can be obtained by calling train model on the full data using ```data_partitions='full'```"
   ]
  },
  {
   "cell_type": "code",
   "execution_count": 21,
   "metadata": {
    "scrolled": false
   },
   "outputs": [
    {
     "name": "stdout",
     "output_type": "stream",
     "text": [
      "Training on 45211 samples.\n",
      "                     | loss       \n",
      "\u001B[36mTraining session: 1  | 9.7226e-01**\u001B[0m\n",
      "-----------------------------------------------\n",
      "Average values:      | 9.7226e-01\n",
      "\n",
      "Training on 40689 samples, testing on 4522 samples.\n",
      "                     | loss       | val_loss\n",
      "\u001B[36mTraining session: 1  | 9.7714e-01 | 9.1331e-01**\u001B[0m\n",
      "-----------------------------------------------\n",
      "Average values:      | 9.7714e-01 | 9.1331e-01\n",
      "\n",
      "Training on 36620 samples, testing on 4069 samples.\n",
      "                     | loss       | val_loss\n",
      "\u001B[36mTraining session: 1  | 9.7914e-01 | 9.7125e-01**\u001B[0m\n",
      "-----------------------------------------------\n",
      "Average values:      | 9.7914e-01 | 9.7125e-01\n",
      "\n"
     ]
    }
   ],
   "source": [
    "res, model = agnt_xgb.train_model_on(config_xgb, data_partitions='full')\n",
    "res, model = agnt_xgb.train_model_on(config_xgb, data_partitions='test')\n",
    "res, model = agnt_xgb.train_model_on(config_xgb, data_partitions='val')"
   ]
  },
  {
   "cell_type": "code",
   "execution_count": 22,
   "metadata": {
    "lines_to_end_of_cell_marker": 0,
    "lines_to_next_cell": 1
   },
   "outputs": [
    {
     "name": "stdout",
     "output_type": "stream",
     "text": [
      "5-KFold Evaluation on 45211 samples.\n",
      "                   | loss       | val_loss\n",
      "---------------------------------------------\n",
      "\u001B[36mAverage values:    | 9.7968e-01 | 9.0330e-01\n",
      "\n",
      "\u001B[0m5-KFold Evaluation on 4522 samples.\n",
      "                   | loss       | val_loss\n",
      "---------------------------------------------\n",
      "\u001B[36mAverage values:    | 9.9939e-01 | 8.9783e-01\n",
      "\n",
      "\u001B[0m5-KFold Evaluation on 4069 samples.\n",
      "                   | loss       | val_loss\n",
      "---------------------------------------------\n",
      "\u001B[36mAverage values:    | 9.9951e-01 | 8.9383e-01\n",
      "\n",
      "\u001B[0m"
     ]
    }
   ],
   "source": [
    "bias, var = agnt_xgb.eval_model_cv(config_xgb, data_partitions='full')\n",
    "bias, var = agnt_xgb.eval_model_cv(config_xgb, data_partitions='test')\n",
    "bias, var = agnt_xgb.eval_model_cv(config_xgb, data_partitions='val')"
   ]
  },
  {
   "cell_type": "markdown",
   "metadata": {},
   "source": [
    "<a id=\"fit\"></a>\n",
    "## 2.2 Customize [fit](#content)  function"
   ]
  },
  {
   "cell_type": "code",
   "execution_count": 23,
   "metadata": {},
   "outputs": [],
   "source": [
    "def loss_(true, pred, thresh=5/7):\n",
    "    pred_label = np.where(pred > 5/7, 1, 0)  \n",
    "    loss = np.int16((true==1)&(pred_label==0)) * 5 * (1 - pred)\\\n",
    "        + np.int16((true==0)&(pred_label==1)) * 25 * pred\\\n",
    "        + np.int16((true==1)&(pred_label==1)) * (-5) * pred\n",
    "    return np.sum(loss)\n",
    "\n",
    "def get_loss(model, data, thresh=5/7):\n",
    "    y_pred = model.predict_proba(data[0])[:, 1]\n",
    "    return loss_(data[1], y_pred)\n",
    "\n",
    "# Fit function must take following arguments and return a tuple (bias, variance)\n",
    "def fit(model, config, train_data, test_data, **kwargs):\n",
    "    try:\n",
    "        model.fit(*train_data)\n",
    "    except ValueError:\n",
    "        return np.inf, np.inf\n",
    "    \n",
    "    loss = get_loss(model, train_data)\n",
    "    if test_data is not None:\n",
    "        val_loss = get_loss(model, test_data)\n",
    "        return loss, val_loss\n",
    "    else:\n",
    "        return loss, None"
   ]
  },
  {
   "cell_type": "code",
   "execution_count": 24,
   "metadata": {
    "scrolled": true
   },
   "outputs": [
    {
     "name": "stdout",
     "output_type": "stream",
     "text": [
      "Training on 40689 samples, testing on 4522 samples.\n",
      "                     | loss       | val_loss\n",
      "\u001B[36mTraining session: 1  | -7.8781e+03 | 2.6015e+03**\u001B[0m\n",
      "------------------------------------------------\n",
      "Average values:      | -7.8781e+03 | 2.6015e+03\n",
      "\n"
     ]
    }
   ],
   "source": [
    "agnt_xgb = Agent(X, y, build_model=build_model_xgb, fit_func=fit)\n",
    "result, model = agnt_xgb.train_model_on(config_xgb, data_partitions='test')"
   ]
  },
  {
   "cell_type": "markdown",
   "metadata": {},
   "source": [
    "<a id=\"preprocessing\"></a>\n",
    "## 2.3 Optimize parameters for [preprocessing step](#content)."
   ]
  },
  {
   "cell_type": "code",
   "execution_count": 15,
   "metadata": {
    "lines_to_next_cell": 0
   },
   "outputs": [
    {
     "data": {
      "text/html": [
       "<div style=\"height:20em;column-gap:1em;display:flex;flex-direction:row;flex-shrink:0;overflow-x:auto;white-space:nowrap;\"><img style=\"margin-top:unset;\" src=\"data:image/svg+xml;utf-8,%3C%3Fxml%20version%3D%221.0%22%20encoding%3D%22utf-8%22%20standalone%3D%22no%22%3F%3E%0A%3C%21DOCTYPE%20svg%20PUBLIC%20%22-//W3C//DTD%20SVG%201.1//EN%22%0A%20%20%22http%3A//www.w3.org/Graphics/SVG/1.1/DTD/svg11.dtd%22%3E%0A%3C%21--%20Created%20with%20matplotlib%20%28https%3A//matplotlib.org/%29%20--%3E%0A%3Csvg%20height%3D%22249.23625pt%22%20version%3D%221.1%22%20viewBox%3D%220%200%20367.25%20249.23625%22%20width%3D%22367.25pt%22%20xmlns%3D%22http%3A//www.w3.org/2000/svg%22%20xmlns%3Axlink%3D%22http%3A//www.w3.org/1999/xlink%22%3E%0A%20%3Cdefs%3E%0A%20%20%3Cstyle%20type%3D%22text/css%22%3E%0A%2A%7Bstroke-linecap%3Abutt%3Bstroke-linejoin%3Around%3B%7D%0A%20%20%3C/style%3E%0A%20%3C/defs%3E%0A%20%3Cg%20id%3D%22figure_1%22%3E%0A%20%20%3Cg%20id%3D%22patch_1%22%3E%0A%20%20%20%3Cpath%20d%3D%22M%200%20249.23625%20%0AL%20367.25%20249.23625%20%0AL%20367.25%200%20%0AL%200%200%20%0Az%0A%22%20style%3D%22fill%3A%23ffffff%3B%22/%3E%0A%20%20%3C/g%3E%0A%20%20%3Cg%20id%3D%22axes_1%22%3E%0A%20%20%20%3Cg%20id%3D%22patch_2%22%3E%0A%20%20%20%20%3Cpath%20d%3D%22M%2032.45%20232.558125%20%0AL%20367.25%20232.558125%20%0AL%20367.25%2015.118125%20%0AL%2032.45%2015.118125%20%0Az%0A%22%20style%3D%22fill%3A%23ffffff%3B%22/%3E%0A%20%20%20%3C/g%3E%0A%20%20%20%3Cg%20id%3D%22patch_3%22%3E%0A%20%20%20%20%3Cpath%20clip-path%3D%22url%28%23pa2b60d974e%29%22%20d%3D%22M%2047.668182%20232.558125%20%0AL%2062.886364%20232.558125%20%0AL%2062.886364%20201.312238%20%0AL%2047.668182%20201.312238%20%0Az%0A%22%20style%3D%22fill%3A%231f77b4%3B%22/%3E%0A%20%20%20%3C/g%3E%0A%20%20%20%3Cg%20id%3D%22patch_4%22%3E%0A%20%20%20%20%3Cpath%20clip-path%3D%22url%28%23pa2b60d974e%29%22%20d%3D%22M%2062.886364%20232.558125%20%0AL%2078.104545%20232.558125%20%0AL%2078.104545%20184.708774%20%0AL%2062.886364%20184.708774%20%0Az%0A%22%20style%3D%22fill%3A%231f77b4%3B%22/%3E%0A%20%20%20%3C/g%3E%0A%20%20%20%3Cg%20id%3D%22patch_5%22%3E%0A%20%20%20%20%3Cpath%20clip-path%3D%22url%28%23pa2b60d974e%29%22%20d%3D%22M%2078.104545%20232.558125%20%0AL%2093.322727%20232.558125%20%0AL%2093.322727%2042.86029%20%0AL%2078.104545%2042.86029%20%0Az%0A%22%20style%3D%22fill%3A%231f77b4%3B%22/%3E%0A%20%20%20%3C/g%3E%0A%20%20%20%3Cg%20id%3D%22patch_6%22%3E%0A%20%20%20%20%3Cpath%20clip-path%3D%22url%28%23pa2b60d974e%29%22%20d%3D%22M%2093.322727%20232.558125%20%0AL%20108.540909%20232.558125%20%0AL%20108.540909%20119.863753%20%0AL%2093.322727%20119.863753%20%0Az%0A%22%20style%3D%22fill%3A%231f77b4%3B%22/%3E%0A%20%20%20%3C/g%3E%0A%20%20%20%3Cg%20id%3D%22patch_7%22%3E%0A%20%20%20%20%3Cpath%20clip-path%3D%22url%28%23pa2b60d974e%29%22%20d%3D%22M%20108.540909%20232.558125%20%0AL%20123.759091%20232.558125%20%0AL%20123.759091%2025.472411%20%0AL%20108.540909%2025.472411%20%0Az%0A%22%20style%3D%22fill%3A%231f77b4%3B%22/%3E%0A%20%20%20%3C/g%3E%0A%20%20%20%3Cg%20id%3D%22patch_8%22%3E%0A%20%20%20%20%3Cpath%20clip-path%3D%22url%28%23pa2b60d974e%29%22%20d%3D%22M%20123.759091%20232.558125%20%0AL%20138.977273%20232.558125%20%0AL%20138.977273%20162.745138%20%0AL%20123.759091%20162.745138%20%0Az%0A%22%20style%3D%22fill%3A%231f77b4%3B%22/%3E%0A%20%20%20%3C/g%3E%0A%20%20%20%3Cg%20id%3D%22patch_9%22%3E%0A%20%20%20%20%3Cpath%20clip-path%3D%22url%28%23pa2b60d974e%29%22%20d%3D%22M%20138.977273%20232.558125%20%0AL%20154.195455%20232.558125%20%0AL%20154.195455%20123.262887%20%0AL%20138.977273%20123.262887%20%0Az%0A%22%20style%3D%22fill%3A%231f77b4%3B%22/%3E%0A%20%20%20%3C/g%3E%0A%20%20%20%3Cg%20id%3D%22patch_10%22%3E%0A%20%20%20%20%3Cpath%20clip-path%3D%22url%28%23pa2b60d974e%29%22%20d%3D%22M%20154.195455%20232.558125%20%0AL%20169.413636%20232.558125%20%0AL%20169.413636%20102.60661%20%0AL%20154.195455%20102.60661%20%0Az%0A%22%20style%3D%22fill%3A%231f77b4%3B%22/%3E%0A%20%20%20%3C/g%3E%0A%20%20%20%3Cg%20id%3D%22patch_11%22%3E%0A%20%20%20%20%3Cpath%20clip-path%3D%22url%28%23pa2b60d974e%29%22%20d%3D%22M%20169.413636%20232.558125%20%0AL%20184.631818%20232.558125%20%0AL%20184.631818%2082.99622%20%0AL%20169.413636%2082.99622%20%0Az%0A%22%20style%3D%22fill%3A%231f77b4%3B%22/%3E%0A%20%20%20%3C/g%3E%0A%20%20%20%3Cg%20id%3D%22patch_12%22%3E%0A%20%20%20%20%3Cpath%20clip-path%3D%22url%28%23pa2b60d974e%29%22%20d%3D%22M%20184.631818%20232.558125%20%0AL%20199.85%20232.558125%20%0AL%20199.85%20224.583233%20%0AL%20184.631818%20224.583233%20%0Az%0A%22%20style%3D%22fill%3A%231f77b4%3B%22/%3E%0A%20%20%20%3C/g%3E%0A%20%20%20%3Cg%20id%3D%22patch_13%22%3E%0A%20%20%20%20%3Cpath%20clip-path%3D%22url%28%23pa2b60d974e%29%22%20d%3D%22M%20199.85%20232.558125%20%0AL%20215.068182%20232.558125%20%0AL%20215.068182%20224.06029%20%0AL%20199.85%20224.06029%20%0Az%0A%22%20style%3D%22fill%3A%231f77b4%3B%22/%3E%0A%20%20%20%3C/g%3E%0A%20%20%20%3Cg%20id%3D%22patch_14%22%3E%0A%20%20%20%20%3Cpath%20clip-path%3D%22url%28%23pa2b60d974e%29%22%20d%3D%22M%20215.068182%20232.558125%20%0AL%20230.286364%20232.558125%20%0AL%20230.286364%20228.505311%20%0AL%20215.068182%20228.505311%20%0Az%0A%22%20style%3D%22fill%3A%231f77b4%3B%22/%3E%0A%20%20%20%3C/g%3E%0A%20%20%20%3Cg%20id%3D%22patch_15%22%3E%0A%20%20%20%20%3Cpath%20clip-path%3D%22url%28%23pa2b60d974e%29%22%20d%3D%22M%20230.286364%20232.558125%20%0AL%20245.504545%20232.558125%20%0AL%20245.504545%20228.766783%20%0AL%20230.286364%20228.766783%20%0Az%0A%22%20style%3D%22fill%3A%231f77b4%3B%22/%3E%0A%20%20%20%3C/g%3E%0A%20%20%20%3Cg%20id%3D%22patch_16%22%3E%0A%20%20%20%20%3Cpath%20clip-path%3D%22url%28%23pa2b60d974e%29%22%20d%3D%22M%20245.504545%20232.558125%20%0AL%20260.722727%20232.558125%20%0AL%20260.722727%20231.250766%20%0AL%20245.504545%20231.250766%20%0Az%0A%22%20style%3D%22fill%3A%231f77b4%3B%22/%3E%0A%20%20%20%3C/g%3E%0A%20%20%20%3Cg%20id%3D%22patch_17%22%3E%0A%20%20%20%20%3Cpath%20clip-path%3D%22url%28%23pa2b60d974e%29%22%20d%3D%22M%20260.722727%20232.558125%20%0AL%20275.940909%20232.558125%20%0AL%20275.940909%20231.642973%20%0AL%20260.722727%20231.642973%20%0Az%0A%22%20style%3D%22fill%3A%231f77b4%3B%22/%3E%0A%20%20%20%3C/g%3E%0A%20%20%20%3Cg%20id%3D%22patch_18%22%3E%0A%20%20%20%20%3Cpath%20clip-path%3D%22url%28%23pa2b60d974e%29%22%20d%3D%22M%20275.940909%20232.558125%20%0AL%20291.159091%20232.558125%20%0AL%20291.159091%20231.12003%20%0AL%20275.940909%20231.12003%20%0Az%0A%22%20style%3D%22fill%3A%231f77b4%3B%22/%3E%0A%20%20%20%3C/g%3E%0A%20%20%20%3Cg%20id%3D%22patch_19%22%3E%0A%20%20%20%20%3Cpath%20clip-path%3D%22url%28%23pa2b60d974e%29%22%20d%3D%22M%20291.159091%20232.558125%20%0AL%20306.377273%20232.558125%20%0AL%20306.377273%20232.165917%20%0AL%20291.159091%20232.165917%20%0Az%0A%22%20style%3D%22fill%3A%231f77b4%3B%22/%3E%0A%20%20%20%3C/g%3E%0A%20%20%20%3Cg%20id%3D%22patch_20%22%3E%0A%20%20%20%20%3Cpath%20clip-path%3D%22url%28%23pa2b60d974e%29%22%20d%3D%22M%20306.377273%20232.558125%20%0AL%20321.595455%20232.558125%20%0AL%20321.595455%20230.597086%20%0AL%20306.377273%20230.597086%20%0Az%0A%22%20style%3D%22fill%3A%231f77b4%3B%22/%3E%0A%20%20%20%3C/g%3E%0A%20%20%20%3Cg%20id%3D%22patch_21%22%3E%0A%20%20%20%20%3Cpath%20clip-path%3D%22url%28%23pa2b60d974e%29%22%20d%3D%22M%20321.595455%20232.558125%20%0AL%20336.813636%20232.558125%20%0AL%20336.813636%20231.512238%20%0AL%20321.595455%20231.512238%20%0Az%0A%22%20style%3D%22fill%3A%231f77b4%3B%22/%3E%0A%20%20%20%3C/g%3E%0A%20%20%20%3Cg%20id%3D%22patch_22%22%3E%0A%20%20%20%20%3Cpath%20clip-path%3D%22url%28%23pa2b60d974e%29%22%20d%3D%22M%20336.813636%20232.558125%20%0AL%20352.031818%20232.558125%20%0AL%20352.031818%20231.642973%20%0AL%20336.813636%20231.642973%20%0Az%0A%22%20style%3D%22fill%3A%231f77b4%3B%22/%3E%0A%20%20%20%3C/g%3E%0A%20%20%20%3Cg%20id%3D%22matplotlib.axis_1%22%3E%0A%20%20%20%20%3Cg%20id%3D%22xtick_1%22%3E%0A%20%20%20%20%20%3Cg%20id%3D%22line2d_1%22%3E%0A%20%20%20%20%20%20%3Cpath%20clip-path%3D%22url%28%23pa2b60d974e%29%22%20d%3D%22M%2047.318339%20232.558125%20%0AL%2047.318339%2015.118125%20%0A%22%20style%3D%22fill%3Anone%3Bstroke%3A%23b0b0b0%3Bstroke-linecap%3Asquare%3Bstroke-width%3A0.8%3B%22/%3E%0A%20%20%20%20%20%3C/g%3E%0A%20%20%20%20%20%3Cg%20id%3D%22line2d_2%22%3E%0A%20%20%20%20%20%20%3Cdefs%3E%0A%20%20%20%20%20%20%20%3Cpath%20d%3D%22M%200%200%20%0AL%200%203.5%20%0A%22%20id%3D%22m808412bea6%22%20style%3D%22stroke%3A%23000000%3Bstroke-width%3A0.8%3B%22/%3E%0A%20%20%20%20%20%20%3C/defs%3E%0A%20%20%20%20%20%20%3Cg%3E%0A%20%20%20%20%20%20%20%3Cuse%20style%3D%22stroke%3A%23000000%3Bstroke-width%3A0.8%3B%22%20x%3D%2247.318339%22%20xlink%3Ahref%3D%22%23m808412bea6%22%20y%3D%22232.558125%22/%3E%0A%20%20%20%20%20%20%3C/g%3E%0A%20%20%20%20%20%3C/g%3E%0A%20%20%20%20%20%3Cg%20id%3D%22text_1%22%3E%0A%20%20%20%20%20%20%3C%21--%200%20--%3E%0A%20%20%20%20%20%20%3Cdefs%3E%0A%20%20%20%20%20%20%20%3Cpath%20d%3D%22M%2031.78125%2066.40625%20%0AQ%2024.171875%2066.40625%2020.328125%2058.90625%20%0AQ%2016.5%2051.421875%2016.5%2036.375%20%0AQ%2016.5%2021.390625%2020.328125%2013.890625%20%0AQ%2024.171875%206.390625%2031.78125%206.390625%20%0AQ%2039.453125%206.390625%2043.28125%2013.890625%20%0AQ%2047.125%2021.390625%2047.125%2036.375%20%0AQ%2047.125%2051.421875%2043.28125%2058.90625%20%0AQ%2039.453125%2066.40625%2031.78125%2066.40625%20%0Az%0AM%2031.78125%2074.21875%20%0AQ%2044.046875%2074.21875%2050.515625%2064.515625%20%0AQ%2056.984375%2054.828125%2056.984375%2036.375%20%0AQ%2056.984375%2017.96875%2050.515625%208.265625%20%0AQ%2044.046875%20-1.421875%2031.78125%20-1.421875%20%0AQ%2019.53125%20-1.421875%2013.0625%208.265625%20%0AQ%206.59375%2017.96875%206.59375%2036.375%20%0AQ%206.59375%2054.828125%2013.0625%2064.515625%20%0AQ%2019.53125%2074.21875%2031.78125%2074.21875%20%0Az%0A%22%20id%3D%22DejaVuSans-48%22/%3E%0A%20%20%20%20%20%20%3C/defs%3E%0A%20%20%20%20%20%20%3Cg%20transform%3D%22translate%2844.137089%20247.156563%29scale%280.1%20-0.1%29%22%3E%0A%20%20%20%20%20%20%20%3Cuse%20xlink%3Ahref%3D%22%23DejaVuSans-48%22/%3E%0A%20%20%20%20%20%20%3C/g%3E%0A%20%20%20%20%20%3C/g%3E%0A%20%20%20%20%3C/g%3E%0A%20%20%20%20%3Cg%20id%3D%22xtick_2%22%3E%0A%20%20%20%20%20%3Cg%20id%3D%22line2d_3%22%3E%0A%20%20%20%20%20%20%3Cpath%20clip-path%3D%22url%28%23pa2b60d974e%29%22%20d%3D%22M%20117.286991%20232.558125%20%0AL%20117.286991%2015.118125%20%0A%22%20style%3D%22fill%3Anone%3Bstroke%3A%23b0b0b0%3Bstroke-linecap%3Asquare%3Bstroke-width%3A0.8%3B%22/%3E%0A%20%20%20%20%20%3C/g%3E%0A%20%20%20%20%20%3Cg%20id%3D%22line2d_4%22%3E%0A%20%20%20%20%20%20%3Cg%3E%0A%20%20%20%20%20%20%20%3Cuse%20style%3D%22stroke%3A%23000000%3Bstroke-width%3A0.8%3B%22%20x%3D%22117.286991%22%20xlink%3Ahref%3D%22%23m808412bea6%22%20y%3D%22232.558125%22/%3E%0A%20%20%20%20%20%20%3C/g%3E%0A%20%20%20%20%20%3C/g%3E%0A%20%20%20%20%20%3Cg%20id%3D%22text_2%22%3E%0A%20%20%20%20%20%20%3C%21--%20200%20--%3E%0A%20%20%20%20%20%20%3Cdefs%3E%0A%20%20%20%20%20%20%20%3Cpath%20d%3D%22M%2019.1875%208.296875%20%0AL%2053.609375%208.296875%20%0AL%2053.609375%200%20%0AL%207.328125%200%20%0AL%207.328125%208.296875%20%0AQ%2012.9375%2014.109375%2022.625%2023.890625%20%0AQ%2032.328125%2033.6875%2034.8125%2036.53125%20%0AQ%2039.546875%2041.84375%2041.421875%2045.53125%20%0AQ%2043.3125%2049.21875%2043.3125%2052.78125%20%0AQ%2043.3125%2058.59375%2039.234375%2062.25%20%0AQ%2035.15625%2065.921875%2028.609375%2065.921875%20%0AQ%2023.96875%2065.921875%2018.8125%2064.3125%20%0AQ%2013.671875%2062.703125%207.8125%2059.421875%20%0AL%207.8125%2069.390625%20%0AQ%2013.765625%2071.78125%2018.9375%2073%20%0AQ%2024.125%2074.21875%2028.421875%2074.21875%20%0AQ%2039.75%2074.21875%2046.484375%2068.546875%20%0AQ%2053.21875%2062.890625%2053.21875%2053.421875%20%0AQ%2053.21875%2048.921875%2051.53125%2044.890625%20%0AQ%2049.859375%2040.875%2045.40625%2035.40625%20%0AQ%2044.1875%2033.984375%2037.640625%2027.21875%20%0AQ%2031.109375%2020.453125%2019.1875%208.296875%20%0Az%0A%22%20id%3D%22DejaVuSans-50%22/%3E%0A%20%20%20%20%20%20%3C/defs%3E%0A%20%20%20%20%20%20%3Cg%20transform%3D%22translate%28107.743241%20247.156563%29scale%280.1%20-0.1%29%22%3E%0A%20%20%20%20%20%20%20%3Cuse%20xlink%3Ahref%3D%22%23DejaVuSans-50%22/%3E%0A%20%20%20%20%20%20%20%3Cuse%20x%3D%2263.623047%22%20xlink%3Ahref%3D%22%23DejaVuSans-48%22/%3E%0A%20%20%20%20%20%20%20%3Cuse%20x%3D%22127.246094%22%20xlink%3Ahref%3D%22%23DejaVuSans-48%22/%3E%0A%20%20%20%20%20%20%3C/g%3E%0A%20%20%20%20%20%3C/g%3E%0A%20%20%20%20%3C/g%3E%0A%20%20%20%20%3Cg%20id%3D%22xtick_3%22%3E%0A%20%20%20%20%20%3Cg%20id%3D%22line2d_5%22%3E%0A%20%20%20%20%20%20%3Cpath%20clip-path%3D%22url%28%23pa2b60d974e%29%22%20d%3D%22M%20187.255643%20232.558125%20%0AL%20187.255643%2015.118125%20%0A%22%20style%3D%22fill%3Anone%3Bstroke%3A%23b0b0b0%3Bstroke-linecap%3Asquare%3Bstroke-width%3A0.8%3B%22/%3E%0A%20%20%20%20%20%3C/g%3E%0A%20%20%20%20%20%3Cg%20id%3D%22line2d_6%22%3E%0A%20%20%20%20%20%20%3Cg%3E%0A%20%20%20%20%20%20%20%3Cuse%20style%3D%22stroke%3A%23000000%3Bstroke-width%3A0.8%3B%22%20x%3D%22187.255643%22%20xlink%3Ahref%3D%22%23m808412bea6%22%20y%3D%22232.558125%22/%3E%0A%20%20%20%20%20%20%3C/g%3E%0A%20%20%20%20%20%3C/g%3E%0A%20%20%20%20%20%3Cg%20id%3D%22text_3%22%3E%0A%20%20%20%20%20%20%3C%21--%20400%20--%3E%0A%20%20%20%20%20%20%3Cdefs%3E%0A%20%20%20%20%20%20%20%3Cpath%20d%3D%22M%2037.796875%2064.3125%20%0AL%2012.890625%2025.390625%20%0AL%2037.796875%2025.390625%20%0Az%0AM%2035.203125%2072.90625%20%0AL%2047.609375%2072.90625%20%0AL%2047.609375%2025.390625%20%0AL%2058.015625%2025.390625%20%0AL%2058.015625%2017.1875%20%0AL%2047.609375%2017.1875%20%0AL%2047.609375%200%20%0AL%2037.796875%200%20%0AL%2037.796875%2017.1875%20%0AL%204.890625%2017.1875%20%0AL%204.890625%2026.703125%20%0Az%0A%22%20id%3D%22DejaVuSans-52%22/%3E%0A%20%20%20%20%20%20%3C/defs%3E%0A%20%20%20%20%20%20%3Cg%20transform%3D%22translate%28177.711893%20247.156563%29scale%280.1%20-0.1%29%22%3E%0A%20%20%20%20%20%20%20%3Cuse%20xlink%3Ahref%3D%22%23DejaVuSans-52%22/%3E%0A%20%20%20%20%20%20%20%3Cuse%20x%3D%2263.623047%22%20xlink%3Ahref%3D%22%23DejaVuSans-48%22/%3E%0A%20%20%20%20%20%20%20%3Cuse%20x%3D%22127.246094%22%20xlink%3Ahref%3D%22%23DejaVuSans-48%22/%3E%0A%20%20%20%20%20%20%3C/g%3E%0A%20%20%20%20%20%3C/g%3E%0A%20%20%20%20%3C/g%3E%0A%20%20%20%20%3Cg%20id%3D%22xtick_4%22%3E%0A%20%20%20%20%20%3Cg%20id%3D%22line2d_7%22%3E%0A%20%20%20%20%20%20%3Cpath%20clip-path%3D%22url%28%23pa2b60d974e%29%22%20d%3D%22M%20257.224295%20232.558125%20%0AL%20257.224295%2015.118125%20%0A%22%20style%3D%22fill%3Anone%3Bstroke%3A%23b0b0b0%3Bstroke-linecap%3Asquare%3Bstroke-width%3A0.8%3B%22/%3E%0A%20%20%20%20%20%3C/g%3E%0A%20%20%20%20%20%3Cg%20id%3D%22line2d_8%22%3E%0A%20%20%20%20%20%20%3Cg%3E%0A%20%20%20%20%20%20%20%3Cuse%20style%3D%22stroke%3A%23000000%3Bstroke-width%3A0.8%3B%22%20x%3D%22257.224295%22%20xlink%3Ahref%3D%22%23m808412bea6%22%20y%3D%22232.558125%22/%3E%0A%20%20%20%20%20%20%3C/g%3E%0A%20%20%20%20%20%3C/g%3E%0A%20%20%20%20%20%3Cg%20id%3D%22text_4%22%3E%0A%20%20%20%20%20%20%3C%21--%20600%20--%3E%0A%20%20%20%20%20%20%3Cdefs%3E%0A%20%20%20%20%20%20%20%3Cpath%20d%3D%22M%2033.015625%2040.375%20%0AQ%2026.375%2040.375%2022.484375%2035.828125%20%0AQ%2018.609375%2031.296875%2018.609375%2023.390625%20%0AQ%2018.609375%2015.53125%2022.484375%2010.953125%20%0AQ%2026.375%206.390625%2033.015625%206.390625%20%0AQ%2039.65625%206.390625%2043.53125%2010.953125%20%0AQ%2047.40625%2015.53125%2047.40625%2023.390625%20%0AQ%2047.40625%2031.296875%2043.53125%2035.828125%20%0AQ%2039.65625%2040.375%2033.015625%2040.375%20%0Az%0AM%2052.59375%2071.296875%20%0AL%2052.59375%2062.3125%20%0AQ%2048.875%2064.0625%2045.09375%2064.984375%20%0AQ%2041.3125%2065.921875%2037.59375%2065.921875%20%0AQ%2027.828125%2065.921875%2022.671875%2059.328125%20%0AQ%2017.53125%2052.734375%2016.796875%2039.40625%20%0AQ%2019.671875%2043.65625%2024.015625%2045.921875%20%0AQ%2028.375%2048.1875%2033.59375%2048.1875%20%0AQ%2044.578125%2048.1875%2050.953125%2041.515625%20%0AQ%2057.328125%2034.859375%2057.328125%2023.390625%20%0AQ%2057.328125%2012.15625%2050.6875%205.359375%20%0AQ%2044.046875%20-1.421875%2033.015625%20-1.421875%20%0AQ%2020.359375%20-1.421875%2013.671875%208.265625%20%0AQ%206.984375%2017.96875%206.984375%2036.375%20%0AQ%206.984375%2053.65625%2015.1875%2063.9375%20%0AQ%2023.390625%2074.21875%2037.203125%2074.21875%20%0AQ%2040.921875%2074.21875%2044.703125%2073.484375%20%0AQ%2048.484375%2072.75%2052.59375%2071.296875%20%0Az%0A%22%20id%3D%22DejaVuSans-54%22/%3E%0A%20%20%20%20%20%20%3C/defs%3E%0A%20%20%20%20%20%20%3Cg%20transform%3D%22translate%28247.680545%20247.156563%29scale%280.1%20-0.1%29%22%3E%0A%20%20%20%20%20%20%20%3Cuse%20xlink%3Ahref%3D%22%23DejaVuSans-54%22/%3E%0A%20%20%20%20%20%20%20%3Cuse%20x%3D%2263.623047%22%20xlink%3Ahref%3D%22%23DejaVuSans-48%22/%3E%0A%20%20%20%20%20%20%20%3Cuse%20x%3D%22127.246094%22%20xlink%3Ahref%3D%22%23DejaVuSans-48%22/%3E%0A%20%20%20%20%20%20%3C/g%3E%0A%20%20%20%20%20%3C/g%3E%0A%20%20%20%20%3C/g%3E%0A%20%20%20%20%3Cg%20id%3D%22xtick_5%22%3E%0A%20%20%20%20%20%3Cg%20id%3D%22line2d_9%22%3E%0A%20%20%20%20%20%20%3Cpath%20clip-path%3D%22url%28%23pa2b60d974e%29%22%20d%3D%22M%20327.192947%20232.558125%20%0AL%20327.192947%2015.118125%20%0A%22%20style%3D%22fill%3Anone%3Bstroke%3A%23b0b0b0%3Bstroke-linecap%3Asquare%3Bstroke-width%3A0.8%3B%22/%3E%0A%20%20%20%20%20%3C/g%3E%0A%20%20%20%20%20%3Cg%20id%3D%22line2d_10%22%3E%0A%20%20%20%20%20%20%3Cg%3E%0A%20%20%20%20%20%20%20%3Cuse%20style%3D%22stroke%3A%23000000%3Bstroke-width%3A0.8%3B%22%20x%3D%22327.192947%22%20xlink%3Ahref%3D%22%23m808412bea6%22%20y%3D%22232.558125%22/%3E%0A%20%20%20%20%20%20%3C/g%3E%0A%20%20%20%20%20%3C/g%3E%0A%20%20%20%20%20%3Cg%20id%3D%22text_5%22%3E%0A%20%20%20%20%20%20%3C%21--%20800%20--%3E%0A%20%20%20%20%20%20%3Cdefs%3E%0A%20%20%20%20%20%20%20%3Cpath%20d%3D%22M%2031.78125%2034.625%20%0AQ%2024.75%2034.625%2020.71875%2030.859375%20%0AQ%2016.703125%2027.09375%2016.703125%2020.515625%20%0AQ%2016.703125%2013.921875%2020.71875%2010.15625%20%0AQ%2024.75%206.390625%2031.78125%206.390625%20%0AQ%2038.8125%206.390625%2042.859375%2010.171875%20%0AQ%2046.921875%2013.96875%2046.921875%2020.515625%20%0AQ%2046.921875%2027.09375%2042.890625%2030.859375%20%0AQ%2038.875%2034.625%2031.78125%2034.625%20%0Az%0AM%2021.921875%2038.8125%20%0AQ%2015.578125%2040.375%2012.03125%2044.71875%20%0AQ%208.5%2049.078125%208.5%2055.328125%20%0AQ%208.5%2064.0625%2014.71875%2069.140625%20%0AQ%2020.953125%2074.21875%2031.78125%2074.21875%20%0AQ%2042.671875%2074.21875%2048.875%2069.140625%20%0AQ%2055.078125%2064.0625%2055.078125%2055.328125%20%0AQ%2055.078125%2049.078125%2051.53125%2044.71875%20%0AQ%2048%2040.375%2041.703125%2038.8125%20%0AQ%2048.828125%2037.15625%2052.796875%2032.3125%20%0AQ%2056.78125%2027.484375%2056.78125%2020.515625%20%0AQ%2056.78125%209.90625%2050.3125%204.234375%20%0AQ%2043.84375%20-1.421875%2031.78125%20-1.421875%20%0AQ%2019.734375%20-1.421875%2013.25%204.234375%20%0AQ%206.78125%209.90625%206.78125%2020.515625%20%0AQ%206.78125%2027.484375%2010.78125%2032.3125%20%0AQ%2014.796875%2037.15625%2021.921875%2038.8125%20%0Az%0AM%2018.3125%2054.390625%20%0AQ%2018.3125%2048.734375%2021.84375%2045.5625%20%0AQ%2025.390625%2042.390625%2031.78125%2042.390625%20%0AQ%2038.140625%2042.390625%2041.71875%2045.5625%20%0AQ%2045.3125%2048.734375%2045.3125%2054.390625%20%0AQ%2045.3125%2060.0625%2041.71875%2063.234375%20%0AQ%2038.140625%2066.40625%2031.78125%2066.40625%20%0AQ%2025.390625%2066.40625%2021.84375%2063.234375%20%0AQ%2018.3125%2060.0625%2018.3125%2054.390625%20%0Az%0A%22%20id%3D%22DejaVuSans-56%22/%3E%0A%20%20%20%20%20%20%3C/defs%3E%0A%20%20%20%20%20%20%3Cg%20transform%3D%22translate%28317.649197%20247.156563%29scale%280.1%20-0.1%29%22%3E%0A%20%20%20%20%20%20%20%3Cuse%20xlink%3Ahref%3D%22%23DejaVuSans-56%22/%3E%0A%20%20%20%20%20%20%20%3Cuse%20x%3D%2263.623047%22%20xlink%3Ahref%3D%22%23DejaVuSans-48%22/%3E%0A%20%20%20%20%20%20%20%3Cuse%20x%3D%22127.246094%22%20xlink%3Ahref%3D%22%23DejaVuSans-48%22/%3E%0A%20%20%20%20%20%20%3C/g%3E%0A%20%20%20%20%20%3C/g%3E%0A%20%20%20%20%3C/g%3E%0A%20%20%20%3C/g%3E%0A%20%20%20%3Cg%20id%3D%22matplotlib.axis_2%22%3E%0A%20%20%20%20%3Cg%20id%3D%22ytick_1%22%3E%0A%20%20%20%20%20%3Cg%20id%3D%22line2d_11%22%3E%0A%20%20%20%20%20%20%3Cpath%20clip-path%3D%22url%28%23pa2b60d974e%29%22%20d%3D%22M%2032.45%20232.558125%20%0AL%20367.25%20232.558125%20%0A%22%20style%3D%22fill%3Anone%3Bstroke%3A%23b0b0b0%3Bstroke-linecap%3Asquare%3Bstroke-width%3A0.8%3B%22/%3E%0A%20%20%20%20%20%3C/g%3E%0A%20%20%20%20%20%3Cg%20id%3D%22line2d_12%22%3E%0A%20%20%20%20%20%20%3Cdefs%3E%0A%20%20%20%20%20%20%20%3Cpath%20d%3D%22M%200%200%20%0AL%20-3.5%200%20%0A%22%20id%3D%22ma4370ad1cf%22%20style%3D%22stroke%3A%23000000%3Bstroke-width%3A0.8%3B%22/%3E%0A%20%20%20%20%20%20%3C/defs%3E%0A%20%20%20%20%20%20%3Cg%3E%0A%20%20%20%20%20%20%20%3Cuse%20style%3D%22stroke%3A%23000000%3Bstroke-width%3A0.8%3B%22%20x%3D%2232.45%22%20xlink%3Ahref%3D%22%23ma4370ad1cf%22%20y%3D%22232.558125%22/%3E%0A%20%20%20%20%20%20%3C/g%3E%0A%20%20%20%20%20%3C/g%3E%0A%20%20%20%20%20%3Cg%20id%3D%22text_6%22%3E%0A%20%20%20%20%20%20%3C%21--%200%20--%3E%0A%20%20%20%20%20%20%3Cg%20transform%3D%22translate%2819.0875%20236.357344%29scale%280.1%20-0.1%29%22%3E%0A%20%20%20%20%20%20%20%3Cuse%20xlink%3Ahref%3D%22%23DejaVuSans-48%22/%3E%0A%20%20%20%20%20%20%3C/g%3E%0A%20%20%20%20%20%3C/g%3E%0A%20%20%20%20%3C/g%3E%0A%20%20%20%20%3Cg%20id%3D%22ytick_2%22%3E%0A%20%20%20%20%20%3Cg%20id%3D%22line2d_13%22%3E%0A%20%20%20%20%20%20%3Cpath%20clip-path%3D%22url%28%23pa2b60d974e%29%22%20d%3D%22M%2032.45%20206.410939%20%0AL%20367.25%20206.410939%20%0A%22%20style%3D%22fill%3Anone%3Bstroke%3A%23b0b0b0%3Bstroke-linecap%3Asquare%3Bstroke-width%3A0.8%3B%22/%3E%0A%20%20%20%20%20%3C/g%3E%0A%20%20%20%20%20%3Cg%20id%3D%22line2d_14%22%3E%0A%20%20%20%20%20%20%3Cg%3E%0A%20%20%20%20%20%20%20%3Cuse%20style%3D%22stroke%3A%23000000%3Bstroke-width%3A0.8%3B%22%20x%3D%2232.45%22%20xlink%3Ahref%3D%22%23ma4370ad1cf%22%20y%3D%22206.410939%22/%3E%0A%20%20%20%20%20%20%3C/g%3E%0A%20%20%20%20%20%3C/g%3E%0A%20%20%20%20%20%3Cg%20id%3D%22text_7%22%3E%0A%20%20%20%20%20%20%3C%21--%20200%20--%3E%0A%20%20%20%20%20%20%3Cg%20transform%3D%22translate%286.3625%20210.210158%29scale%280.1%20-0.1%29%22%3E%0A%20%20%20%20%20%20%20%3Cuse%20xlink%3Ahref%3D%22%23DejaVuSans-50%22/%3E%0A%20%20%20%20%20%20%20%3Cuse%20x%3D%2263.623047%22%20xlink%3Ahref%3D%22%23DejaVuSans-48%22/%3E%0A%20%20%20%20%20%20%20%3Cuse%20x%3D%22127.246094%22%20xlink%3Ahref%3D%22%23DejaVuSans-48%22/%3E%0A%20%20%20%20%20%20%3C/g%3E%0A%20%20%20%20%20%3C/g%3E%0A%20%20%20%20%3C/g%3E%0A%20%20%20%20%3Cg%20id%3D%22ytick_3%22%3E%0A%20%20%20%20%20%3Cg%20id%3D%22line2d_15%22%3E%0A%20%20%20%20%20%20%3Cpath%20clip-path%3D%22url%28%23pa2b60d974e%29%22%20d%3D%22M%2032.45%20180.263753%20%0AL%20367.25%20180.263753%20%0A%22%20style%3D%22fill%3Anone%3Bstroke%3A%23b0b0b0%3Bstroke-linecap%3Asquare%3Bstroke-width%3A0.8%3B%22/%3E%0A%20%20%20%20%20%3C/g%3E%0A%20%20%20%20%20%3Cg%20id%3D%22line2d_16%22%3E%0A%20%20%20%20%20%20%3Cg%3E%0A%20%20%20%20%20%20%20%3Cuse%20style%3D%22stroke%3A%23000000%3Bstroke-width%3A0.8%3B%22%20x%3D%2232.45%22%20xlink%3Ahref%3D%22%23ma4370ad1cf%22%20y%3D%22180.263753%22/%3E%0A%20%20%20%20%20%20%3C/g%3E%0A%20%20%20%20%20%3C/g%3E%0A%20%20%20%20%20%3Cg%20id%3D%22text_8%22%3E%0A%20%20%20%20%20%20%3C%21--%20400%20--%3E%0A%20%20%20%20%20%20%3Cg%20transform%3D%22translate%286.3625%20184.062971%29scale%280.1%20-0.1%29%22%3E%0A%20%20%20%20%20%20%20%3Cuse%20xlink%3Ahref%3D%22%23DejaVuSans-52%22/%3E%0A%20%20%20%20%20%20%20%3Cuse%20x%3D%2263.623047%22%20xlink%3Ahref%3D%22%23DejaVuSans-48%22/%3E%0A%20%20%20%20%20%20%20%3Cuse%20x%3D%22127.246094%22%20xlink%3Ahref%3D%22%23DejaVuSans-48%22/%3E%0A%20%20%20%20%20%20%3C/g%3E%0A%20%20%20%20%20%3C/g%3E%0A%20%20%20%20%3C/g%3E%0A%20%20%20%20%3Cg%20id%3D%22ytick_4%22%3E%0A%20%20%20%20%20%3Cg%20id%3D%22line2d_17%22%3E%0A%20%20%20%20%20%20%3Cpath%20clip-path%3D%22url%28%23pa2b60d974e%29%22%20d%3D%22M%2032.45%20154.116567%20%0AL%20367.25%20154.116567%20%0A%22%20style%3D%22fill%3Anone%3Bstroke%3A%23b0b0b0%3Bstroke-linecap%3Asquare%3Bstroke-width%3A0.8%3B%22/%3E%0A%20%20%20%20%20%3C/g%3E%0A%20%20%20%20%20%3Cg%20id%3D%22line2d_18%22%3E%0A%20%20%20%20%20%20%3Cg%3E%0A%20%20%20%20%20%20%20%3Cuse%20style%3D%22stroke%3A%23000000%3Bstroke-width%3A0.8%3B%22%20x%3D%2232.45%22%20xlink%3Ahref%3D%22%23ma4370ad1cf%22%20y%3D%22154.116567%22/%3E%0A%20%20%20%20%20%20%3C/g%3E%0A%20%20%20%20%20%3C/g%3E%0A%20%20%20%20%20%3Cg%20id%3D%22text_9%22%3E%0A%20%20%20%20%20%20%3C%21--%20600%20--%3E%0A%20%20%20%20%20%20%3Cg%20transform%3D%22translate%286.3625%20157.915785%29scale%280.1%20-0.1%29%22%3E%0A%20%20%20%20%20%20%20%3Cuse%20xlink%3Ahref%3D%22%23DejaVuSans-54%22/%3E%0A%20%20%20%20%20%20%20%3Cuse%20x%3D%2263.623047%22%20xlink%3Ahref%3D%22%23DejaVuSans-48%22/%3E%0A%20%20%20%20%20%20%20%3Cuse%20x%3D%22127.246094%22%20xlink%3Ahref%3D%22%23DejaVuSans-48%22/%3E%0A%20%20%20%20%20%20%3C/g%3E%0A%20%20%20%20%20%3C/g%3E%0A%20%20%20%20%3C/g%3E%0A%20%20%20%20%3Cg%20id%3D%22ytick_5%22%3E%0A%20%20%20%20%20%3Cg%20id%3D%22line2d_19%22%3E%0A%20%20%20%20%20%20%3Cpath%20clip-path%3D%22url%28%23pa2b60d974e%29%22%20d%3D%22M%2032.45%20127.96938%20%0AL%20367.25%20127.96938%20%0A%22%20style%3D%22fill%3Anone%3Bstroke%3A%23b0b0b0%3Bstroke-linecap%3Asquare%3Bstroke-width%3A0.8%3B%22/%3E%0A%20%20%20%20%20%3C/g%3E%0A%20%20%20%20%20%3Cg%20id%3D%22line2d_20%22%3E%0A%20%20%20%20%20%20%3Cg%3E%0A%20%20%20%20%20%20%20%3Cuse%20style%3D%22stroke%3A%23000000%3Bstroke-width%3A0.8%3B%22%20x%3D%2232.45%22%20xlink%3Ahref%3D%22%23ma4370ad1cf%22%20y%3D%22127.96938%22/%3E%0A%20%20%20%20%20%20%3C/g%3E%0A%20%20%20%20%20%3C/g%3E%0A%20%20%20%20%20%3Cg%20id%3D%22text_10%22%3E%0A%20%20%20%20%20%20%3C%21--%20800%20--%3E%0A%20%20%20%20%20%20%3Cg%20transform%3D%22translate%286.3625%20131.768599%29scale%280.1%20-0.1%29%22%3E%0A%20%20%20%20%20%20%20%3Cuse%20xlink%3Ahref%3D%22%23DejaVuSans-56%22/%3E%0A%20%20%20%20%20%20%20%3Cuse%20x%3D%2263.623047%22%20xlink%3Ahref%3D%22%23DejaVuSans-48%22/%3E%0A%20%20%20%20%20%20%20%3Cuse%20x%3D%22127.246094%22%20xlink%3Ahref%3D%22%23DejaVuSans-48%22/%3E%0A%20%20%20%20%20%20%3C/g%3E%0A%20%20%20%20%20%3C/g%3E%0A%20%20%20%20%3C/g%3E%0A%20%20%20%20%3Cg%20id%3D%22ytick_6%22%3E%0A%20%20%20%20%20%3Cg%20id%3D%22line2d_21%22%3E%0A%20%20%20%20%20%20%3Cpath%20clip-path%3D%22url%28%23pa2b60d974e%29%22%20d%3D%22M%2032.45%20101.822194%20%0AL%20367.25%20101.822194%20%0A%22%20style%3D%22fill%3Anone%3Bstroke%3A%23b0b0b0%3Bstroke-linecap%3Asquare%3Bstroke-width%3A0.8%3B%22/%3E%0A%20%20%20%20%20%3C/g%3E%0A%20%20%20%20%20%3Cg%20id%3D%22line2d_22%22%3E%0A%20%20%20%20%20%20%3Cg%3E%0A%20%20%20%20%20%20%20%3Cuse%20style%3D%22stroke%3A%23000000%3Bstroke-width%3A0.8%3B%22%20x%3D%2232.45%22%20xlink%3Ahref%3D%22%23ma4370ad1cf%22%20y%3D%22101.822194%22/%3E%0A%20%20%20%20%20%20%3C/g%3E%0A%20%20%20%20%20%3C/g%3E%0A%20%20%20%20%20%3Cg%20id%3D%22text_11%22%3E%0A%20%20%20%20%20%20%3C%21--%201000%20--%3E%0A%20%20%20%20%20%20%3Cdefs%3E%0A%20%20%20%20%20%20%20%3Cpath%20d%3D%22M%2012.40625%208.296875%20%0AL%2028.515625%208.296875%20%0AL%2028.515625%2063.921875%20%0AL%2010.984375%2060.40625%20%0AL%2010.984375%2069.390625%20%0AL%2028.421875%2072.90625%20%0AL%2038.28125%2072.90625%20%0AL%2038.28125%208.296875%20%0AL%2054.390625%208.296875%20%0AL%2054.390625%200%20%0AL%2012.40625%200%20%0Az%0A%22%20id%3D%22DejaVuSans-49%22/%3E%0A%20%20%20%20%20%20%3C/defs%3E%0A%20%20%20%20%20%20%3Cg%20transform%3D%22translate%280%20105.621413%29scale%280.1%20-0.1%29%22%3E%0A%20%20%20%20%20%20%20%3Cuse%20xlink%3Ahref%3D%22%23DejaVuSans-49%22/%3E%0A%20%20%20%20%20%20%20%3Cuse%20x%3D%2263.623047%22%20xlink%3Ahref%3D%22%23DejaVuSans-48%22/%3E%0A%20%20%20%20%20%20%20%3Cuse%20x%3D%22127.246094%22%20xlink%3Ahref%3D%22%23DejaVuSans-48%22/%3E%0A%20%20%20%20%20%20%20%3Cuse%20x%3D%22190.869141%22%20xlink%3Ahref%3D%22%23DejaVuSans-48%22/%3E%0A%20%20%20%20%20%20%3C/g%3E%0A%20%20%20%20%20%3C/g%3E%0A%20%20%20%20%3C/g%3E%0A%20%20%20%20%3Cg%20id%3D%22ytick_7%22%3E%0A%20%20%20%20%20%3Cg%20id%3D%22line2d_23%22%3E%0A%20%20%20%20%20%20%3Cpath%20clip-path%3D%22url%28%23pa2b60d974e%29%22%20d%3D%22M%2032.45%2075.675008%20%0AL%20367.25%2075.675008%20%0A%22%20style%3D%22fill%3Anone%3Bstroke%3A%23b0b0b0%3Bstroke-linecap%3Asquare%3Bstroke-width%3A0.8%3B%22/%3E%0A%20%20%20%20%20%3C/g%3E%0A%20%20%20%20%20%3Cg%20id%3D%22line2d_24%22%3E%0A%20%20%20%20%20%20%3Cg%3E%0A%20%20%20%20%20%20%20%3Cuse%20style%3D%22stroke%3A%23000000%3Bstroke-width%3A0.8%3B%22%20x%3D%2232.45%22%20xlink%3Ahref%3D%22%23ma4370ad1cf%22%20y%3D%2275.675008%22/%3E%0A%20%20%20%20%20%20%3C/g%3E%0A%20%20%20%20%20%3C/g%3E%0A%20%20%20%20%20%3Cg%20id%3D%22text_12%22%3E%0A%20%20%20%20%20%20%3C%21--%201200%20--%3E%0A%20%20%20%20%20%20%3Cg%20transform%3D%22translate%280%2079.474227%29scale%280.1%20-0.1%29%22%3E%0A%20%20%20%20%20%20%20%3Cuse%20xlink%3Ahref%3D%22%23DejaVuSans-49%22/%3E%0A%20%20%20%20%20%20%20%3Cuse%20x%3D%2263.623047%22%20xlink%3Ahref%3D%22%23DejaVuSans-50%22/%3E%0A%20%20%20%20%20%20%20%3Cuse%20x%3D%22127.246094%22%20xlink%3Ahref%3D%22%23DejaVuSans-48%22/%3E%0A%20%20%20%20%20%20%20%3Cuse%20x%3D%22190.869141%22%20xlink%3Ahref%3D%22%23DejaVuSans-48%22/%3E%0A%20%20%20%20%20%20%3C/g%3E%0A%20%20%20%20%20%3C/g%3E%0A%20%20%20%20%3C/g%3E%0A%20%20%20%20%3Cg%20id%3D%22ytick_8%22%3E%0A%20%20%20%20%20%3Cg%20id%3D%22line2d_25%22%3E%0A%20%20%20%20%20%20%3Cpath%20clip-path%3D%22url%28%23pa2b60d974e%29%22%20d%3D%22M%2032.45%2049.527822%20%0AL%20367.25%2049.527822%20%0A%22%20style%3D%22fill%3Anone%3Bstroke%3A%23b0b0b0%3Bstroke-linecap%3Asquare%3Bstroke-width%3A0.8%3B%22/%3E%0A%20%20%20%20%20%3C/g%3E%0A%20%20%20%20%20%3Cg%20id%3D%22line2d_26%22%3E%0A%20%20%20%20%20%20%3Cg%3E%0A%20%20%20%20%20%20%20%3Cuse%20style%3D%22stroke%3A%23000000%3Bstroke-width%3A0.8%3B%22%20x%3D%2232.45%22%20xlink%3Ahref%3D%22%23ma4370ad1cf%22%20y%3D%2249.527822%22/%3E%0A%20%20%20%20%20%20%3C/g%3E%0A%20%20%20%20%20%3C/g%3E%0A%20%20%20%20%20%3Cg%20id%3D%22text_13%22%3E%0A%20%20%20%20%20%20%3C%21--%201400%20--%3E%0A%20%20%20%20%20%20%3Cg%20transform%3D%22translate%280%2053.327041%29scale%280.1%20-0.1%29%22%3E%0A%20%20%20%20%20%20%20%3Cuse%20xlink%3Ahref%3D%22%23DejaVuSans-49%22/%3E%0A%20%20%20%20%20%20%20%3Cuse%20x%3D%2263.623047%22%20xlink%3Ahref%3D%22%23DejaVuSans-52%22/%3E%0A%20%20%20%20%20%20%20%3Cuse%20x%3D%22127.246094%22%20xlink%3Ahref%3D%22%23DejaVuSans-48%22/%3E%0A%20%20%20%20%20%20%20%3Cuse%20x%3D%22190.869141%22%20xlink%3Ahref%3D%22%23DejaVuSans-48%22/%3E%0A%20%20%20%20%20%20%3C/g%3E%0A%20%20%20%20%20%3C/g%3E%0A%20%20%20%20%3C/g%3E%0A%20%20%20%20%3Cg%20id%3D%22ytick_9%22%3E%0A%20%20%20%20%20%3Cg%20id%3D%22line2d_27%22%3E%0A%20%20%20%20%20%20%3Cpath%20clip-path%3D%22url%28%23pa2b60d974e%29%22%20d%3D%22M%2032.45%2023.380636%20%0AL%20367.25%2023.380636%20%0A%22%20style%3D%22fill%3Anone%3Bstroke%3A%23b0b0b0%3Bstroke-linecap%3Asquare%3Bstroke-width%3A0.8%3B%22/%3E%0A%20%20%20%20%20%3C/g%3E%0A%20%20%20%20%20%3Cg%20id%3D%22line2d_28%22%3E%0A%20%20%20%20%20%20%3Cg%3E%0A%20%20%20%20%20%20%20%3Cuse%20style%3D%22stroke%3A%23000000%3Bstroke-width%3A0.8%3B%22%20x%3D%2232.45%22%20xlink%3Ahref%3D%22%23ma4370ad1cf%22%20y%3D%2223.380636%22/%3E%0A%20%20%20%20%20%20%3C/g%3E%0A%20%20%20%20%20%3C/g%3E%0A%20%20%20%20%20%3Cg%20id%3D%22text_14%22%3E%0A%20%20%20%20%20%20%3C%21--%201600%20--%3E%0A%20%20%20%20%20%20%3Cg%20transform%3D%22translate%280%2027.179855%29scale%280.1%20-0.1%29%22%3E%0A%20%20%20%20%20%20%20%3Cuse%20xlink%3Ahref%3D%22%23DejaVuSans-49%22/%3E%0A%20%20%20%20%20%20%20%3Cuse%20x%3D%2263.623047%22%20xlink%3Ahref%3D%22%23DejaVuSans-54%22/%3E%0A%20%20%20%20%20%20%20%3Cuse%20x%3D%22127.246094%22%20xlink%3Ahref%3D%22%23DejaVuSans-48%22/%3E%0A%20%20%20%20%20%20%20%3Cuse%20x%3D%22190.869141%22%20xlink%3Ahref%3D%22%23DejaVuSans-48%22/%3E%0A%20%20%20%20%20%20%3C/g%3E%0A%20%20%20%20%20%3C/g%3E%0A%20%20%20%20%3C/g%3E%0A%20%20%20%3C/g%3E%0A%20%20%20%3Cg%20id%3D%22patch_23%22%3E%0A%20%20%20%20%3Cpath%20d%3D%22M%2032.45%20232.558125%20%0AL%2032.45%2015.118125%20%0A%22%20style%3D%22fill%3Anone%3Bstroke%3A%23000000%3Bstroke-linecap%3Asquare%3Bstroke-linejoin%3Amiter%3Bstroke-width%3A0.8%3B%22/%3E%0A%20%20%20%3C/g%3E%0A%20%20%20%3Cg%20id%3D%22patch_24%22%3E%0A%20%20%20%20%3Cpath%20d%3D%22M%20367.25%20232.558125%20%0AL%20367.25%2015.118125%20%0A%22%20style%3D%22fill%3Anone%3Bstroke%3A%23000000%3Bstroke-linecap%3Asquare%3Bstroke-linejoin%3Amiter%3Bstroke-width%3A0.8%3B%22/%3E%0A%20%20%20%3C/g%3E%0A%20%20%20%3Cg%20id%3D%22patch_25%22%3E%0A%20%20%20%20%3Cpath%20d%3D%22M%2032.45%20232.558125%20%0AL%20367.25%20232.558125%20%0A%22%20style%3D%22fill%3Anone%3Bstroke%3A%23000000%3Bstroke-linecap%3Asquare%3Bstroke-linejoin%3Amiter%3Bstroke-width%3A0.8%3B%22/%3E%0A%20%20%20%3C/g%3E%0A%20%20%20%3Cg%20id%3D%22patch_26%22%3E%0A%20%20%20%20%3Cpath%20d%3D%22M%2032.45%2015.118125%20%0AL%20367.25%2015.118125%20%0A%22%20style%3D%22fill%3Anone%3Bstroke%3A%23000000%3Bstroke-linecap%3Asquare%3Bstroke-linejoin%3Amiter%3Bstroke-width%3A0.8%3B%22/%3E%0A%20%20%20%3C/g%3E%0A%20%20%20%3Cg%20id%3D%22text_15%22%3E%0A%20%20%20%20%3C%21--%20pdays%20--%3E%0A%20%20%20%20%3Cdefs%3E%0A%20%20%20%20%20%3Cpath%20d%3D%22M%2018.109375%208.203125%20%0AL%2018.109375%20-20.796875%20%0AL%209.078125%20-20.796875%20%0AL%209.078125%2054.6875%20%0AL%2018.109375%2054.6875%20%0AL%2018.109375%2046.390625%20%0AQ%2020.953125%2051.265625%2025.265625%2053.625%20%0AQ%2029.59375%2056%2035.59375%2056%20%0AQ%2045.5625%2056%2051.78125%2048.09375%20%0AQ%2058.015625%2040.1875%2058.015625%2027.296875%20%0AQ%2058.015625%2014.40625%2051.78125%206.484375%20%0AQ%2045.5625%20-1.421875%2035.59375%20-1.421875%20%0AQ%2029.59375%20-1.421875%2025.265625%200.953125%20%0AQ%2020.953125%203.328125%2018.109375%208.203125%20%0Az%0AM%2048.6875%2027.296875%20%0AQ%2048.6875%2037.203125%2044.609375%2042.84375%20%0AQ%2040.53125%2048.484375%2033.40625%2048.484375%20%0AQ%2026.265625%2048.484375%2022.1875%2042.84375%20%0AQ%2018.109375%2037.203125%2018.109375%2027.296875%20%0AQ%2018.109375%2017.390625%2022.1875%2011.75%20%0AQ%2026.265625%206.109375%2033.40625%206.109375%20%0AQ%2040.53125%206.109375%2044.609375%2011.75%20%0AQ%2048.6875%2017.390625%2048.6875%2027.296875%20%0Az%0A%22%20id%3D%22DejaVuSans-112%22/%3E%0A%20%20%20%20%20%3Cpath%20d%3D%22M%2045.40625%2046.390625%20%0AL%2045.40625%2075.984375%20%0AL%2054.390625%2075.984375%20%0AL%2054.390625%200%20%0AL%2045.40625%200%20%0AL%2045.40625%208.203125%20%0AQ%2042.578125%203.328125%2038.25%200.953125%20%0AQ%2033.9375%20-1.421875%2027.875%20-1.421875%20%0AQ%2017.96875%20-1.421875%2011.734375%206.484375%20%0AQ%205.515625%2014.40625%205.515625%2027.296875%20%0AQ%205.515625%2040.1875%2011.734375%2048.09375%20%0AQ%2017.96875%2056%2027.875%2056%20%0AQ%2033.9375%2056%2038.25%2053.625%20%0AQ%2042.578125%2051.265625%2045.40625%2046.390625%20%0Az%0AM%2014.796875%2027.296875%20%0AQ%2014.796875%2017.390625%2018.875%2011.75%20%0AQ%2022.953125%206.109375%2030.078125%206.109375%20%0AQ%2037.203125%206.109375%2041.296875%2011.75%20%0AQ%2045.40625%2017.390625%2045.40625%2027.296875%20%0AQ%2045.40625%2037.203125%2041.296875%2042.84375%20%0AQ%2037.203125%2048.484375%2030.078125%2048.484375%20%0AQ%2022.953125%2048.484375%2018.875%2042.84375%20%0AQ%2014.796875%2037.203125%2014.796875%2027.296875%20%0Az%0A%22%20id%3D%22DejaVuSans-100%22/%3E%0A%20%20%20%20%20%3Cpath%20d%3D%22M%2034.28125%2027.484375%20%0AQ%2023.390625%2027.484375%2019.1875%2025%20%0AQ%2014.984375%2022.515625%2014.984375%2016.5%20%0AQ%2014.984375%2011.71875%2018.140625%208.90625%20%0AQ%2021.296875%206.109375%2026.703125%206.109375%20%0AQ%2034.1875%206.109375%2038.703125%2011.40625%20%0AQ%2043.21875%2016.703125%2043.21875%2025.484375%20%0AL%2043.21875%2027.484375%20%0Az%0AM%2052.203125%2031.203125%20%0AL%2052.203125%200%20%0AL%2043.21875%200%20%0AL%2043.21875%208.296875%20%0AQ%2040.140625%203.328125%2035.546875%200.953125%20%0AQ%2030.953125%20-1.421875%2024.3125%20-1.421875%20%0AQ%2015.921875%20-1.421875%2010.953125%203.296875%20%0AQ%206%208.015625%206%2015.921875%20%0AQ%206%2025.140625%2012.171875%2029.828125%20%0AQ%2018.359375%2034.515625%2030.609375%2034.515625%20%0AL%2043.21875%2034.515625%20%0AL%2043.21875%2035.40625%20%0AQ%2043.21875%2041.609375%2039.140625%2045%20%0AQ%2035.0625%2048.390625%2027.6875%2048.390625%20%0AQ%2023%2048.390625%2018.546875%2047.265625%20%0AQ%2014.109375%2046.140625%2010.015625%2043.890625%20%0AL%2010.015625%2052.203125%20%0AQ%2014.9375%2054.109375%2019.578125%2055.046875%20%0AQ%2024.21875%2056%2028.609375%2056%20%0AQ%2040.484375%2056%2046.34375%2049.84375%20%0AQ%2052.203125%2043.703125%2052.203125%2031.203125%20%0Az%0A%22%20id%3D%22DejaVuSans-97%22/%3E%0A%20%20%20%20%20%3Cpath%20d%3D%22M%2032.171875%20-5.078125%20%0AQ%2028.375%20-14.84375%2024.75%20-17.8125%20%0AQ%2021.140625%20-20.796875%2015.09375%20-20.796875%20%0AL%207.90625%20-20.796875%20%0AL%207.90625%20-13.28125%20%0AL%2013.1875%20-13.28125%20%0AQ%2016.890625%20-13.28125%2018.9375%20-11.515625%20%0AQ%2021%20-9.765625%2023.484375%20-3.21875%20%0AL%2025.09375%200.875%20%0AL%202.984375%2054.6875%20%0AL%2012.5%2054.6875%20%0AL%2029.59375%2011.921875%20%0AL%2046.6875%2054.6875%20%0AL%2056.203125%2054.6875%20%0Az%0A%22%20id%3D%22DejaVuSans-121%22/%3E%0A%20%20%20%20%20%3Cpath%20d%3D%22M%2044.28125%2053.078125%20%0AL%2044.28125%2044.578125%20%0AQ%2040.484375%2046.53125%2036.375%2047.5%20%0AQ%2032.28125%2048.484375%2027.875%2048.484375%20%0AQ%2021.1875%2048.484375%2017.84375%2046.4375%20%0AQ%2014.5%2044.390625%2014.5%2040.28125%20%0AQ%2014.5%2037.15625%2016.890625%2035.375%20%0AQ%2019.28125%2033.59375%2026.515625%2031.984375%20%0AL%2029.59375%2031.296875%20%0AQ%2039.15625%2029.25%2043.1875%2025.515625%20%0AQ%2047.21875%2021.78125%2047.21875%2015.09375%20%0AQ%2047.21875%207.46875%2041.1875%203.015625%20%0AQ%2035.15625%20-1.421875%2024.609375%20-1.421875%20%0AQ%2020.21875%20-1.421875%2015.453125%20-0.5625%20%0AQ%2010.6875%200.296875%205.421875%202%20%0AL%205.421875%2011.28125%20%0AQ%2010.40625%208.6875%2015.234375%207.390625%20%0AQ%2020.0625%206.109375%2024.8125%206.109375%20%0AQ%2031.15625%206.109375%2034.5625%208.28125%20%0AQ%2037.984375%2010.453125%2037.984375%2014.40625%20%0AQ%2037.984375%2018.0625%2035.515625%2020.015625%20%0AQ%2033.0625%2021.96875%2024.703125%2023.78125%20%0AL%2021.578125%2024.515625%20%0AQ%2013.234375%2026.265625%209.515625%2029.90625%20%0AQ%205.8125%2033.546875%205.8125%2039.890625%20%0AQ%205.8125%2047.609375%2011.28125%2051.796875%20%0AQ%2016.75%2056%2026.8125%2056%20%0AQ%2031.78125%2056%2036.171875%2055.265625%20%0AQ%2040.578125%2054.546875%2044.28125%2053.078125%20%0Az%0A%22%20id%3D%22DejaVuSans-115%22/%3E%0A%20%20%20%20%3C/defs%3E%0A%20%20%20%20%3Cg%20transform%3D%22translate%28181.878125%209.118125%29scale%280.12%20-0.12%29%22%3E%0A%20%20%20%20%20%3Cuse%20xlink%3Ahref%3D%22%23DejaVuSans-112%22/%3E%0A%20%20%20%20%20%3Cuse%20x%3D%2263.476562%22%20xlink%3Ahref%3D%22%23DejaVuSans-100%22/%3E%0A%20%20%20%20%20%3Cuse%20x%3D%22126.953125%22%20xlink%3Ahref%3D%22%23DejaVuSans-97%22/%3E%0A%20%20%20%20%20%3Cuse%20x%3D%22188.232422%22%20xlink%3Ahref%3D%22%23DejaVuSans-121%22/%3E%0A%20%20%20%20%20%3Cuse%20x%3D%22247.412109%22%20xlink%3Ahref%3D%22%23DejaVuSans-115%22/%3E%0A%20%20%20%20%3C/g%3E%0A%20%20%20%3C/g%3E%0A%20%20%3C/g%3E%0A%20%3C/g%3E%0A%20%3Cdefs%3E%0A%20%20%3CclipPath%20id%3D%22pa2b60d974e%22%3E%0A%20%20%20%3Crect%20height%3D%22217.44%22%20width%3D%22334.8%22%20x%3D%2232.45%22%20y%3D%2215.118125%22/%3E%0A%20%20%3C/clipPath%3E%0A%20%3C/defs%3E%0A%3C/svg%3E%0A\"><div>\n",
       "<style scoped>\n",
       "    .dataframe tbody tr th:only-of-type {\n",
       "        vertical-align: middle;\n",
       "    }\n",
       "\n",
       "    .dataframe tbody tr th {\n",
       "        vertical-align: top;\n",
       "    }\n",
       "\n",
       "    .dataframe thead th {\n",
       "        text-align: right;\n",
       "    }\n",
       "</style>\n",
       "<table border=\"1\" class=\"dataframe\">\n",
       "  <thead>\n",
       "    <tr style=\"text-align: right;\">\n",
       "      <th></th>\n",
       "      <th>pdays</th>\n",
       "    </tr>\n",
       "  </thead>\n",
       "  <tbody>\n",
       "    <tr>\n",
       "      <th>count</th>\n",
       "      <td>8257.000000</td>\n",
       "    </tr>\n",
       "    <tr>\n",
       "      <th>mean</th>\n",
       "      <td>224.577692</td>\n",
       "    </tr>\n",
       "    <tr>\n",
       "      <th>std</th>\n",
       "      <td>115.344035</td>\n",
       "    </tr>\n",
       "    <tr>\n",
       "      <th>min</th>\n",
       "      <td>1.000000</td>\n",
       "    </tr>\n",
       "    <tr>\n",
       "      <th>25%</th>\n",
       "      <td>133.000000</td>\n",
       "    </tr>\n",
       "    <tr>\n",
       "      <th>50%</th>\n",
       "      <td>194.000000</td>\n",
       "    </tr>\n",
       "    <tr>\n",
       "      <th>75%</th>\n",
       "      <td>327.000000</td>\n",
       "    </tr>\n",
       "    <tr>\n",
       "      <th>max</th>\n",
       "      <td>871.000000</td>\n",
       "    </tr>\n",
       "  </tbody>\n",
       "</table>\n",
       "</div></div>"
      ],
      "text/plain": [
       "<jutils.html.HBox at 0x24ef4047a60>"
      ]
     },
     "execution_count": 15,
     "metadata": {},
     "output_type": "execute_result"
    }
   ],
   "source": [
    "pdays_contacted = data.pdays[data.pdays != -1].to_frame()\n",
    "pdays_contacted.hist(bins=20)\n",
    "\n",
    "std_ = pdays_contacted.describe().loc['std']\n",
    "\n",
    "HBox( [ Plot(), pdays_contacted.describe() ], css = { 'height': '20em', 'column-gap': '1em' } )"
   ]
  },
  {
   "cell_type": "code",
   "execution_count": 16,
   "metadata": {},
   "outputs": [],
   "source": [
    "def feature_transform(config, x):\n",
    "    if config.get('one_hot_encode', False):\n",
    "        x = pd.get_dummies(x, columns=categorical)\n",
    "\n",
    "    if config.get('new_features', False):\n",
    "        x[\"recall\"] = x.pdays.apply(lambda el: 0 if (el == -1) or (el == 0) else 1 / el)\n",
    "        x['attention'] = x.duration * x.campaign\n",
    "        x['recognition'] = x.attention * x.recall\n",
    "        x['importance'] = x.recognition * x.balance\n",
    "    \n",
    "    return x"
   ]
  },
  {
   "cell_type": "code",
   "execution_count": 17,
   "metadata": {},
   "outputs": [],
   "source": [
    "# The number of attributes you need to pass after `config` depends on how many data arguments you pass to the Agent()\n",
    "def preprocessing(config: dict, x, y):     \n",
    "    x = x.copy()  # to prevent change of values in the initial dataset\n",
    "    x = feature_transform(config, x)\n",
    "    \n",
    "    if config.get('print_prepr', False): print(f'doing preprocessing on {x.shape[0]} samples')\n",
    "    return x, y\n",
    "\n",
    "build_model_xgb = lambda x: XGBClassifier(**x, verbosity=0, use_label_encoder=False)\n",
    "\n",
    "# Not\n",
    "agnt = Agent(X, y, build_model=build_model_xgb, preprocessing=preprocessing)"
   ]
  },
  {
   "cell_type": "markdown",
   "metadata": {},
   "source": [
    "### OR"
   ]
  },
  {
   "cell_type": "code",
   "execution_count": 18,
   "metadata": {},
   "outputs": [],
   "source": [
    "def preprocessing(config: dict, df):\n",
    "    y = df.y\n",
    "    x = df.iloc[:, :-1]\n",
    "    x = feature_transform(config, x)\n",
    "    \n",
    "    if config.get('print_prepr', False): print(f'doing preprocessing on {x.shape[0]} samples')\n",
    "    return x, y\n",
    "\n",
    "agnt = Agent(df, build_model=build_model_xgb, preprocessing=preprocessing)"
   ]
  },
  {
   "cell_type": "markdown",
   "metadata": {},
   "source": [
    "### Base case: all preprocessing keys are set to False"
   ]
  },
  {
   "cell_type": "code",
   "execution_count": 19,
   "metadata": {},
   "outputs": [
    {
     "name": "stdout",
     "output_type": "stream",
     "text": [
      "5-KFold Evaluation on 4522 samples.\n",
      "                   | loss       | val_loss\n",
      "---------------------------------------------\n",
      "\u001B[36mAverage values:    | 9.7075e-01 | 9.0734e-01\n",
      "\n",
      "\u001B[0m"
     ]
    }
   ],
   "source": [
    "config_xgb = {\n",
    "    'n_estimators': 128, 'subsample': 1.0, 'learning_rate': 0.2, \n",
    "    'min_child_weight': 1, 'max_depth': 4, 'gamma': 0.9, 'colsample_bytree': 0.6,\n",
    "    'one_hot_encode': False,\n",
    "    'new_features': False,\n",
    "}\n",
    "\n",
    "bias, var = agnt.eval_model_cv(config_xgb, data_partitions='test')"
   ]
  },
  {
   "cell_type": "code",
   "execution_count": 21,
   "metadata": {
    "scrolled": true
   },
   "outputs": [
    {
     "name": "stdout",
     "output_type": "stream",
     "text": [
      "grid for Hyperparameter: one_hot_encode, new_features\n",
      "Current configuration: {'n_estimators': 128, 'subsample': 1.000000e+00, 'learning_rate': 2.000000e-01, 'min_child_weight': 1, 'max_depth': 4, 'gamma': 9.000000e-01, 'colsample_bytree': 6.000000e-01, 'one_hot_encode': 0, 'new_features': 0}\n",
      " Variance: -9.074688e-01, Bias: -9.232839e-01, HyperParams: {'one_hot_encode': 0, 'new_features': 0}, Time: 0:00:02\n",
      " Variance: -9.063874e-01, Bias: -9.234990e-01, HyperParams: {'one_hot_encode': 0, 'new_features': 1}, Time: 0:00:02\n",
      " Variance: -9.070510e-01, Bias: -9.237263e-01, HyperParams: {'one_hot_encode': 1, 'new_features': 0}, Time: 0:00:06\n",
      " Variance: -9.067314e-01, Bias: -9.247094e-01, HyperParams: {'one_hot_encode': 1, 'new_features': 1}, Time: 0:00:06\n",
      "Max. Variance: -9.074688e-01, Best HyperParams: {'one_hot_encode': 0, 'new_features': 0}, Time: 0:00:17\n",
      "\n",
      "Best config: {'n_estimators': 128, 'subsample': 1.0, 'learning_rate': 0.2, 'min_child_weight': 1, 'max_depth': 4, 'gamma': 0.9, 'colsample_bytree': 0.6, 'one_hot_encode': 0, 'new_features': 0}\n"
     ]
    }
   ],
   "source": [
    "from dope.method import Mode\n",
    "\n",
    "params = [\n",
    "    Mode('one_hot_encode', [0, 1]),\n",
    "    Mode('new_features',   [0, 1]),\n",
    "]\n",
    "\n",
    "var, conf, model = agnt.scan('grid', parameter_space=params, config=config_xgb, strategy='max')"
   ]
  },
  {
   "cell_type": "markdown",
   "metadata": {},
   "source": [
    "### During cross-validation evaluation you can perform preprocessing once before the splitting of the data into subpartitions or on each of the data partitions n_splits times after the split.\n",
    "\n",
    "Use `preprocess_before_split` argument to specify the order."
   ]
  },
  {
   "cell_type": "code",
   "execution_count": 22,
   "metadata": {},
   "outputs": [
    {
     "name": "stdout",
     "output_type": "stream",
     "text": [
      "5-KFold Evaluation on 4522 samples.\n",
      "                   | loss       | val_loss\n",
      "doing preprocessing on 3617 samples\n",
      "doing preprocessing on 905 samples\n",
      "Data partition: 1  | 9.7125e-01 | 9.0387e-01\n",
      "doing preprocessing on 3617 samples\n",
      "doing preprocessing on 905 samples\n",
      "Data partition: 2  | 9.6323e-01 | 9.1271e-01\n",
      "doing preprocessing on 3618 samples\n",
      "doing preprocessing on 904 samples\n",
      "Data partition: 3  | 9.6877e-01 | 9.1261e-01\n",
      "doing preprocessing on 3618 samples\n",
      "doing preprocessing on 904 samples\n",
      "Data partition: 4  | 9.6904e-01 | 8.9934e-01\n",
      "doing preprocessing on 3618 samples\n",
      "doing preprocessing on 904 samples\n",
      "Data partition: 5  | 9.7043e-01 | 9.0597e-01\n",
      "---------------------------------------------\n",
      "\u001B[36mAverage values:    | 9.6854e-01 | 9.0690e-01\n",
      "\n",
      "\u001B[0mWall time: 2.61 s\n"
     ]
    }
   ],
   "source": [
    "%%time\n",
    "config_xgb = {\n",
    "    'n_estimators': 128, 'subsample': 1.0, 'learning_rate': 0.2, \n",
    "    'min_child_weight': 1, 'max_depth': 4, 'gamma': 0.9, 'colsample_bytree': 0.6,\n",
    "    'one_hot_encode': True, 'new_features': True, 'print_prepr': True\n",
    "}\n",
    "bias, var = agnt.eval_model_cv(config_xgb, verbose=2, data_partitions='test', preprocess_before_split=False, parallelize=False)"
   ]
  },
  {
   "cell_type": "code",
   "execution_count": 26,
   "metadata": {},
   "outputs": [
    {
     "name": "stdout",
     "output_type": "stream",
     "text": [
      "doing preprocessing on 4522 samples\n",
      "5-KFold Evaluation on 4522 samples.\n",
      "                   | loss       | val_loss\n",
      "Data partition: 1  | 9.7014e-01 | 8.9724e-01\n",
      "Data partition: 2  | 9.6959e-01 | 9.0055e-01\n",
      "Data partition: 3  | 9.6600e-01 | 9.0487e-01\n",
      "Data partition: 4  | 9.7291e-01 | 9.0819e-01\n",
      "Data partition: 5  | 9.6739e-01 | 9.1372e-01\n",
      "---------------------------------------------\n",
      "\u001B[36mAverage values:    | 9.6921e-01 | 9.0491e-01\n",
      "\n",
      "\u001B[0mWall time: 2.41 s\n"
     ]
    }
   ],
   "source": [
    "%%time\n",
    "bias, var = agnt.eval_model_cv(config_xgb, verbose=2, data_partitions='test', preprocess_before_split=True, parallelize=False)"
   ]
  },
  {
   "cell_type": "markdown",
   "metadata": {},
   "source": [
    "<a id=\"evaluation\"></a>\n",
    "## 2.4 Define [custom evaluation](#content) methods. \n",
    "\n",
    "##### However you should keep in mind that you need to pass the data you want to use for evaluation too."
   ]
  },
  {
   "cell_type": "code",
   "execution_count": 34,
   "metadata": {},
   "outputs": [],
   "source": [
    "# Split the data\n",
    "x_train, x_test, y_train, y_test = train_test_split(X, y, test_size=0.1, random_state=RND_SEED)\n",
    "\n",
    "def eval_xgb(config, cv=5, scoring='roc_auc'):\n",
    "    model = build_model_xgb(config)\n",
    "    cv_results = cross_validate(model, x_train, y_train, cv=cv, n_jobs=-1, scoring=scoring, return_train_score=True)\n",
    "    \n",
    "    # Here we use the worst loss of all partitions for example\n",
    "    return -(cv_results['train_score'].min()), -(cv_results['test_score'].min()), model\n",
    "\n",
    "params = [\n",
    "    Mode('n_estimators', values=[50, 500], mode_optimizer=\"gridsearch\"),\n",
    "]"
   ]
  },
  {
   "cell_type": "code",
   "execution_count": 35,
   "metadata": {
    "scrolled": true
   },
   "outputs": [
    {
     "name": "stdout",
     "output_type": "stream",
     "text": [
      "grid for Hyperparameter: n_estimators\n",
      "Current configuration: {'n_estimators': 50}\n",
      " Variance: -9.223162e-01, Bias: -9.658271e-01, HyperParams: {'n_estimators': 50}, Time: 0:00:03\n",
      " Variance: -9.138951e-01, Bias: -9.999216e-01, HyperParams: {'n_estimators': 500}, Time: 0:00:18\n",
      "Max. Variance: -9.223162e-01, Best HyperParams: {'n_estimators': 50}, Time: 0:00:22\n",
      "\n",
      "Best config: {'n_estimators': 50}\n"
     ]
    },
    {
     "data": {
      "text/plain": [
       "(-0.9223162251425927, {'n_estimators': 50})"
      ]
     },
     "execution_count": 35,
     "metadata": {},
     "output_type": "execute_result"
    }
   ],
   "source": [
    "var, conf, model = Agent().scan('grid', parameter_space=params, eval_func=eval_xgb, strategy='max')\n",
    "var, conf"
   ]
  },
  {
   "cell_type": "markdown",
   "metadata": {},
   "source": [
    "<a id=\"Customize\"></a>\n",
    "##  2.5 [Customize](#content) your scan: \n",
    "* maximize or minimize target value with `strategy` argument\n",
    "* select target value for optimization with `target`: {'bias', 'variance'}\n",
    "* different metrics with `scoring` argument for model evaluation (sklearn models).\n",
    "* `early_preprocessing` argument is used to specify when to use preprocessing on data. \n",
    "   `True` executes preprocessing function before data splitting in complementary partitions for cross validation, `False` - after, just before fit_func \n",
    "* customize outuput with `output_names` argument. See more in scan docstring\n",
    "\n",
    "\n",
    "<font size=3>Agent uses default scoring parameter for particular model. This is `accurasy` for xgb, for example.<br></br>\n",
    "    See available metrics for sklearn models [here](https://scikit-learn.org/stable/modules/model_evaluation.html#the-scoring-parameter-defining-model-evaluation-rules).</span>\n"
   ]
  },
  {
   "cell_type": "code",
   "execution_count": 36,
   "metadata": {},
   "outputs": [
    {
     "name": "stdout",
     "output_type": "stream",
     "text": [
      "Training on 40689 samples, testing on 4522 samples.\n",
      "                     | roc_auc    | val_roc_auc\n",
      "\u001B[36mTraining session: 1  | 9.9418e-01 | 9.3480e-01**\u001B[0m\n",
      "-----------------------------------------------\n",
      "Average values:      | 9.9418e-01 | 9.3480e-01\n",
      "\n"
     ]
    }
   ],
   "source": [
    "res, model = agnt_xgb.train_model_on(config_xgb, data_partitions='test', scoring='roc_auc')"
   ]
  },
  {
   "cell_type": "code",
   "execution_count": 38,
   "metadata": {
    "scrolled": false
   },
   "outputs": [
    {
     "name": "stdout",
     "output_type": "stream",
     "text": [
      "random for Hyperparameter: n_estimators\n",
      "Current config: {'n_estimators': 50}\n",
      " neg roc auc: -9.076408e-01, neg roc auc: -9.399223e-01, HyperParams: {'n_estimators': 50}, Time: 0:00:01\n",
      " neg roc auc: -9.031680e-01, neg roc auc: -9.979294e-01, HyperParams: {'n_estimators': 500}, Time: 0:00:14\n",
      "Max. Variance: -9.076408e-01, Best HyperParams: {'n_estimators': 50}, Time: 0:00:16\n",
      "\n",
      "Best config: {'n_estimators': 50}\n"
     ]
    }
   ],
   "source": [
    "out_names = {\n",
    "    \"mode_var\": \"Hyperparameter\",\n",
    "    \"pivot_point\": \"Current config\",\n",
    "    \"refer_val\": \"neg roc auc\",\n",
    "    \"target_val\": \"neg roc auc\",\n",
    "    \"mode_arg\": \"HyperParams\",\n",
    "    \"minimum\": \"Best config\",\n",
    "}\n",
    "\n",
    "_, _, _ = agnt_xgb.scan('random', parameter_space=params, random_samples=2, \n",
    "                        scoring='roc_auc', strategy='max', output_names=out_names)"
   ]
  },
  {
   "cell_type": "markdown",
   "metadata": {},
   "source": [
    "<a id=\"examples\"></a>\n",
    "# [3. Examples](#content)."
   ]
  },
  {
   "cell_type": "markdown",
   "metadata": {},
   "source": [
    "### Lets say we want to train model on resampled data and test on original data"
   ]
  },
  {
   "cell_type": "code",
   "execution_count": 39,
   "metadata": {},
   "outputs": [
    {
     "name": "stdout",
     "output_type": "stream",
     "text": [
      "36168 train samples\n",
      "9043 test samples\n",
      "#Yes: 31942 | #No: 31942\n"
     ]
    }
   ],
   "source": [
    "# Instanciate Agent as a data_container object to split the data\n",
    "data_container = Agent(X, y, val_split=0.2, random_seed=RND_SEED)\n",
    "\n",
    "# Prepare original data\n",
    "train_xy = data_container.train_xy\n",
    "test_xy = data_container.test_xy\n",
    "\n",
    "print(f'{train_xy[0].shape[0]} train samples')\n",
    "print(f'{test_xy[0].shape[0]} test samples')\n",
    "\n",
    "# Resampling\n",
    "smote = SMOTE(random_state=RND_SEED)\n",
    "X_res, y_res = smote.fit_resample(*train_xy)\n",
    "\n",
    "print(f\"#Yes: {sum(y_res)} | #No: {sum(~y_res+2)}\")"
   ]
  },
  {
   "cell_type": "code",
   "execution_count": 40,
   "metadata": {},
   "outputs": [],
   "source": [
    "from xgboost import XGBClassifier\n",
    "\n",
    "def build_model_xgb(config):\n",
    "    return XGBClassifier(**config, random_state=RND_SEED)\n",
    "\n",
    "agnt = Agent(*train_xy, build_model=build_model_xgb, random_seed=RND_SEED)"
   ]
  },
  {
   "cell_type": "code",
   "execution_count": 41,
   "metadata": {
    "scrolled": true
   },
   "outputs": [
    {
     "name": "stdout",
     "output_type": "stream",
     "text": [
      "Training on 32551 samples, testing on 9043 samples.\n",
      "                     | loss       | val_loss\n",
      "\u001B[36mTraining session: 1  | 9.3358e-01 | 8.9981e-01**\u001B[0m\n",
      "-----------------------------------------------\n",
      "Average values:      | 9.3358e-01 | 8.9981e-01\n",
      "\n"
     ]
    }
   ],
   "source": [
    "config = {'n_estimators':100, 'subsample': 1.0, 'learning_rate': 0.2, 'min_child_weight': 10, \n",
    "          'max_depth': 6, 'gamma': 1, 'colsample_bytree': 0.6, 'eval_metric': 'logloss'}\n",
    "\n",
    "res, model = agnt.train_model_on(config, validation_mode='full', test_data=test_xy)"
   ]
  },
  {
   "cell_type": "markdown",
   "metadata": {},
   "source": [
    "## Keras"
   ]
  },
  {
   "cell_type": "markdown",
   "metadata": {},
   "source": [
    "We need to create X with one-hot-encoded categorical variables"
   ]
  },
  {
   "cell_type": "code",
   "execution_count": 42,
   "metadata": {
    "scrolled": false
   },
   "outputs": [
    {
     "data": {
      "text/plain": [
       "(63884, 81)"
      ]
     },
     "execution_count": 42,
     "metadata": {},
     "output_type": "execute_result"
    }
   ],
   "source": [
    "X_res_enc = pd.get_dummies(X_res, columns=categorical)\n",
    "X_res_enc.shape"
   ]
  },
  {
   "cell_type": "code",
   "execution_count": 43,
   "metadata": {},
   "outputs": [],
   "source": [
    "from biva.utils.plotters import plot_epochs"
   ]
  },
  {
   "cell_type": "code",
   "execution_count": 44,
   "metadata": {},
   "outputs": [],
   "source": [
    "metrics=['acc']\n",
    "\n",
    "def build_model_keras(config):\n",
    "    model = Sequential()\n",
    "    model.add(Dense(config['denseLayer1'], activation=config['actFuncL1'], input_dim=X_res_enc.shape[1]))\n",
    "    model.add(Dense(config['denseLayer2'], activation=config['actFuncL2']))\n",
    "    model.add(Flatten())\n",
    "    model.add(Dense(1, activation=config['actFuncLast']))\n",
    "    \n",
    "    lm = tf.keras.optimizers.Adadelta(lr=config['lr'])\n",
    "    model.compile(loss=\"binary_crossentropy\", optimizer=lm, metrics=metrics)\n",
    "    return model\n",
    "\n",
    "config_keras = {\n",
    "    'denseLayer1': 256, 'actFuncL1': 'elu',\n",
    "    'denseLayer2': 256, 'actFuncL2': 'elu',\n",
    "    'actFuncLast': 'sigmoid', \n",
    "    'epochs': 5, 'batch_size': 512,\n",
    "    'lr': 0.01, 'beta_1': 0.85}"
   ]
  },
  {
   "cell_type": "code",
   "execution_count": 45,
   "metadata": {},
   "outputs": [],
   "source": [
    "callbacks = [tf.keras.callbacks.EarlyStopping(monitor='loss', min_delta=0.0005, patience=4)]\n",
    "agent = Agent(X_res_enc, y_res, build_model=build_model_keras, callbacks=callbacks)"
   ]
  },
  {
   "cell_type": "code",
   "execution_count": 29,
   "metadata": {},
   "outputs": [
    {
     "name": "stdout",
     "output_type": "stream",
     "text": [
      "Training on 57495 samples, testing on 6389 samples.\n",
      "                     | loss       | val_loss\n",
      "\u001B[36mTraining session: 1  | 4.1629e-01 | 4.2283e-01**\u001B[0m\n",
      "\u001B[36mTraining session: 2  | 4.0522e-01 | 4.1218e-01**\u001B[0m\n",
      "Training session: 3  | 4.1169e-01 | 4.1815e-01\n",
      "-----------------------------------------------\n",
      "Average values:      | 4.1107e-01 | 4.1772e-01\n",
      "\n"
     ]
    },
    {
     "data": {
      "image/png": "[encoded data removed]",
      "text/plain": [
       "<Figure size 432x288 with 1 Axes>"
      ]
     },
     "metadata": {
      "needs_background": "light"
     },
     "output_type": "display_data"
    },
    {
     "name": "stdout",
     "output_type": "stream",
     "text": [
      "Wall time: 1min 30s\n"
     ]
    }
   ],
   "source": [
    "%%time\n",
    "log, model = agent.train_model_on(config_keras, n_trainings=3, epochs=50, batch_size=512)\n",
    "plot_epochs(log, metrics)"
   ]
  },
  {
   "cell_type": "markdown",
   "metadata": {},
   "source": [
    "**You can also change the metric output name in output and criterion for the training.**"
   ]
  },
  {
   "cell_type": "code",
   "execution_count": 27,
   "metadata": {},
   "outputs": [
    {
     "name": "stdout",
     "output_type": "stream",
     "text": [
      "Training on 57495 samples, testing on 6389 samples.\n",
      "                     | mse        | val_mse\n",
      "\u001B[36mTraining session: 1  | 4.1085e-01 | 4.1764e-01**\u001B[0m\n",
      "-----------------------------------------------\n",
      "Average values:      | 4.1085e-01 | 4.1764e-01\n",
      "\n"
     ]
    },
    {
     "data": {
      "image/png": "[encoded data removed]",
      "text/plain": [
       "<Figure size 432x288 with 1 Axes>"
      ]
     },
     "metadata": {
      "needs_background": "light"
     },
     "output_type": "display_data"
    },
    {
     "name": "stdout",
     "output_type": "stream",
     "text": [
      "Wall time: 20.8 s\n"
     ]
    }
   ],
   "source": [
    "%%time\n",
    "log, model = agent.train_model_on(config_keras, n_trainings=1, \n",
    "                                  epochs=50, batch_size=512, \n",
    "                                  target='variance', metric_name='mse', verbose=0)\n",
    "plot_epochs(log)"
   ]
  },
  {
   "cell_type": "code",
   "execution_count": 47,
   "metadata": {},
   "outputs": [
    {
     "name": "stdout",
     "output_type": "stream",
     "text": [
      "\"order\" positional argument is missing. Using default order: ['denseLayer1']\n",
      "acs\n",
      "# Iteration: 1\n",
      "\n",
      "GridSearch for Hyperparameter: denseLayer1\n",
      "Current configuration: {'denseLayer1': 256, 'actFuncL1': elu, 'denseLayer2': 256, 'actFuncL2': elu, 'actFuncLast': sigmoid, 'epochs': 5, 'batch_size': 512, 'lr': 1.000000e-02, 'beta_1': 8.500000e-01}\n",
      " Variance: 6.071956e-01, Bias: 6.128790e-01, HyperParams: {'denseLayer1': 64}, Time: 0:00:09\n",
      " Variance: 5.888190e-01, Bias: 5.958066e-01, HyperParams: {'denseLayer1': 128}, Time: 0:00:10\n",
      " Variance: 5.664356e-01, Bias: 5.719845e-01, HyperParams: {'denseLayer1': 256}, Time: 0:00:12\n",
      "Min. Variance: 5.664356e-01, Best HyperParams: {'denseLayer1': 256}, Time: 0:00:32\n",
      "\n",
      "Best config: {'denseLayer1': 256, 'actFuncL1': 'elu', 'denseLayer2': 256, 'actFuncL2': 'elu', 'actFuncLast': 'sigmoid', 'epochs': 5, 'batch_size': 512, 'lr': 0.01, 'beta_1': 0.85}\n",
      "time elapsed: 0:00:32\n"
     ]
    }
   ],
   "source": [
    "neurons = [Mode(f'denseLayer{i}', [64, 128, 256]) for i in range(1, 2)]\n",
    "\n",
    "var, bconf, model = agent.scan('acs', neurons, config_keras, iterations=1)"
   ]
  },
  {
   "cell_type": "code",
   "execution_count": 34,
   "metadata": {
    "scrolled": true
   },
   "outputs": [
    {
     "name": "stdout",
     "output_type": "stream",
     "text": [
      "Training on 57495 samples, testing on 6389 samples.\n",
      "                     | loss       | val_loss\n",
      "Epoch 1/50\n",
      "450/450 [==============================] - 1s 3ms/step - loss: 0.5582 - acc: 0.7199 - val_loss: 0.4912 - val_acc: 0.7687\n",
      "Epoch 2/50\n",
      "450/450 [==============================] - 2s 3ms/step - loss: 0.4615 - acc: 0.7897 - val_loss: 0.4410 - val_acc: 0.8086\n",
      "Epoch 3/50\n",
      "450/450 [==============================] - 2s 4ms/step - loss: 0.4113 - acc: 0.8241 - val_loss: 0.3949 - val_acc: 0.8369\n",
      "Epoch 4/50\n",
      "450/450 [==============================] - 2s 4ms/step - loss: 0.3673 - acc: 0.8523 - val_loss: 0.3558 - val_acc: 0.8569\n",
      "Epoch 5/50\n",
      "450/450 [==============================] - 2s 4ms/step - loss: 0.3352 - acc: 0.8700 - val_loss: 0.3306 - val_acc: 0.8695\n",
      "Epoch 6/50\n",
      "450/450 [==============================] - 2s 4ms/step - loss: 0.3154 - acc: 0.8797 - val_loss: 0.3162 - val_acc: 0.8731\n",
      "Epoch 7/50\n",
      "450/450 [==============================] - 2s 4ms/step - loss: 0.3037 - acc: 0.8840 - val_loss: 0.3171 - val_acc: 0.8814\n",
      "Epoch 8/50\n",
      "450/450 [==============================] - 2s 4ms/step - loss: 0.2956 - acc: 0.8876 - val_loss: 0.3009 - val_acc: 0.8854\n",
      "Epoch 9/50\n",
      "450/450 [==============================] - 2s 4ms/step - loss: 0.2896 - acc: 0.8907 - val_loss: 0.2998 - val_acc: 0.8762\n",
      "Epoch 10/50\n",
      "450/450 [==============================] - 2s 4ms/step - loss: 0.2847 - acc: 0.8926 - val_loss: 0.2988 - val_acc: 0.8867\n",
      "Epoch 11/50\n",
      "450/450 [==============================] - 2s 4ms/step - loss: 0.2803 - acc: 0.8948 - val_loss: 0.2948 - val_acc: 0.8878\n",
      "Epoch 12/50\n",
      "450/450 [==============================] - 2s 4ms/step - loss: 0.2761 - acc: 0.8963 - val_loss: 0.2829 - val_acc: 0.8897\n",
      "Epoch 13/50\n",
      "450/450 [==============================] - 2s 3ms/step - loss: 0.2723 - acc: 0.8971 - val_loss: 0.2821 - val_acc: 0.8906\n",
      "Epoch 14/50\n",
      "450/450 [==============================] - 2s 4ms/step - loss: 0.2684 - acc: 0.8990 - val_loss: 0.2783 - val_acc: 0.8945\n",
      "Epoch 15/50\n",
      "450/450 [==============================] - 2s 4ms/step - loss: 0.2650 - acc: 0.9001 - val_loss: 0.2747 - val_acc: 0.8953\n",
      "Epoch 16/50\n",
      "450/450 [==============================] - 2s 4ms/step - loss: 0.2618 - acc: 0.9013 - val_loss: 0.2720 - val_acc: 0.8967\n",
      "Epoch 17/50\n",
      "450/450 [==============================] - 2s 4ms/step - loss: 0.2584 - acc: 0.9030 - val_loss: 0.2682 - val_acc: 0.8961\n",
      "Epoch 18/50\n",
      "450/450 [==============================] - 2s 4ms/step - loss: 0.2549 - acc: 0.9038 - val_loss: 0.2672 - val_acc: 0.8961\n",
      "Epoch 19/50\n",
      "450/450 [==============================] - 2s 4ms/step - loss: 0.2522 - acc: 0.9052 - val_loss: 0.2640 - val_acc: 0.8984\n",
      "Epoch 20/50\n",
      "450/450 [==============================] - 2s 3ms/step - loss: 0.2490 - acc: 0.9062 - val_loss: 0.2637 - val_acc: 0.8990\n",
      "Epoch 21/50\n",
      "450/450 [==============================] - 2s 4ms/step - loss: 0.2462 - acc: 0.9079 - val_loss: 0.2634 - val_acc: 0.8981\n",
      "Epoch 22/50\n",
      "450/450 [==============================] - 2s 4ms/step - loss: 0.2436 - acc: 0.9083 - val_loss: 0.2596 - val_acc: 0.8998\n",
      "Epoch 23/50\n",
      "450/450 [==============================] - 2s 4ms/step - loss: 0.2408 - acc: 0.9092 - val_loss: 0.2549 - val_acc: 0.9015\n",
      "Epoch 24/50\n",
      "450/450 [==============================] - 2s 4ms/step - loss: 0.2384 - acc: 0.9103 - val_loss: 0.2563 - val_acc: 0.8987\n",
      "Epoch 25/50\n",
      "450/450 [==============================] - 2s 4ms/step - loss: 0.2358 - acc: 0.9116 - val_loss: 0.2532 - val_acc: 0.9028\n",
      "Epoch 26/50\n",
      "450/450 [==============================] - 2s 4ms/step - loss: 0.2333 - acc: 0.9122 - val_loss: 0.2523 - val_acc: 0.9030\n",
      "Epoch 27/50\n",
      "450/450 [==============================] - 2s 4ms/step - loss: 0.2311 - acc: 0.9128 - val_loss: 0.2563 - val_acc: 0.9019\n",
      "Epoch 28/50\n",
      "450/450 [==============================] - 2s 4ms/step - loss: 0.2288 - acc: 0.9140 - val_loss: 0.2471 - val_acc: 0.9048\n",
      "Epoch 29/50\n",
      "450/450 [==============================] - 2s 5ms/step - loss: 0.2266 - acc: 0.9144 - val_loss: 0.2452 - val_acc: 0.9059\n",
      "Epoch 30/50\n",
      "450/450 [==============================] - 1s 3ms/step - loss: 0.2244 - acc: 0.9154 - val_loss: 0.2487 - val_acc: 0.9050\n",
      "Epoch 31/50\n",
      "450/450 [==============================] - 2s 5ms/step - loss: 0.2220 - acc: 0.9157 - val_loss: 0.2457 - val_acc: 0.9066\n",
      "Epoch 32/50\n",
      "450/450 [==============================] - 2s 4ms/step - loss: 0.2202 - acc: 0.9168 - val_loss: 0.2450 - val_acc: 0.9055\n",
      "Epoch 33/50\n",
      "450/450 [==============================] - 2s 4ms/step - loss: 0.2181 - acc: 0.9179 - val_loss: 0.2426 - val_acc: 0.9072\n",
      "Epoch 34/50\n",
      "450/450 [==============================] - 2s 4ms/step - loss: 0.2162 - acc: 0.9186 - val_loss: 0.2502 - val_acc: 0.9037\n",
      "Epoch 35/50\n",
      "450/450 [==============================] - 2s 4ms/step - loss: 0.2146 - acc: 0.9190 - val_loss: 0.2401 - val_acc: 0.9092\n",
      "Epoch 36/50\n",
      "450/450 [==============================] - 2s 4ms/step - loss: 0.2127 - acc: 0.9195 - val_loss: 0.2382 - val_acc: 0.9056\n",
      "Epoch 37/50\n",
      "450/450 [==============================] - 1s 3ms/step - loss: 0.2109 - acc: 0.9206 - val_loss: 0.2378 - val_acc: 0.9097\n",
      "Epoch 38/50\n",
      "450/450 [==============================] - 2s 3ms/step - loss: 0.2093 - acc: 0.9207 - val_loss: 0.2439 - val_acc: 0.9078\n",
      "Epoch 39/50\n",
      "450/450 [==============================] - 2s 3ms/step - loss: 0.2074 - acc: 0.9214 - val_loss: 0.2383 - val_acc: 0.9086\n",
      "Epoch 40/50\n",
      "450/450 [==============================] - 2s 3ms/step - loss: 0.2059 - acc: 0.9228 - val_loss: 0.2388 - val_acc: 0.9106\n",
      "Epoch 41/50\n",
      "450/450 [==============================] - 2s 3ms/step - loss: 0.2041 - acc: 0.9235 - val_loss: 0.2331 - val_acc: 0.9098\n",
      "Epoch 42/50\n",
      "450/450 [==============================] - 2s 4ms/step - loss: 0.2026 - acc: 0.9233 - val_loss: 0.2336 - val_acc: 0.9108\n",
      "Epoch 43/50\n",
      "450/450 [==============================] - 2s 5ms/step - loss: 0.2010 - acc: 0.9239 - val_loss: 0.2319 - val_acc: 0.9078\n",
      "Epoch 44/50\n",
      "450/450 [==============================] - 3s 6ms/step - loss: 0.1998 - acc: 0.9249 - val_loss: 0.2355 - val_acc: 0.9116\n",
      "Epoch 45/50\n",
      "450/450 [==============================] - 2s 5ms/step - loss: 0.1982 - acc: 0.9255 - val_loss: 0.2329 - val_acc: 0.9127\n",
      "Epoch 46/50\n",
      "450/450 [==============================] - 2s 4ms/step - loss: 0.1967 - acc: 0.9260 - val_loss: 0.2309 - val_acc: 0.9134\n",
      "Epoch 47/50\n",
      "450/450 [==============================] - 2s 5ms/step - loss: 0.1954 - acc: 0.9261 - val_loss: 0.2297 - val_acc: 0.9095\n",
      "Epoch 48/50\n",
      "450/450 [==============================] - 2s 5ms/step - loss: 0.1940 - acc: 0.9264 - val_loss: 0.2321 - val_acc: 0.9114\n",
      "Epoch 49/50\n",
      "450/450 [==============================] - 2s 4ms/step - loss: 0.1923 - acc: 0.9277 - val_loss: 0.2305 - val_acc: 0.9106\n",
      "Epoch 50/50\n",
      "450/450 [==============================] - 2s 4ms/step - loss: 0.1914 - acc: 0.9283 - val_loss: 0.2269 - val_acc: 0.9123\n",
      "\u001B[36mTraining session: 1  | 1.9136e-01 | 2.2689e-01**\u001B[0m\n",
      "-----------------------------------------------\n",
      "Average values:      | 1.9136e-01 | 2.2689e-01\n",
      "\n",
      "Wall time: 1min 27s\n"
     ]
    }
   ],
   "source": [
    "%%time\n",
    "bconf = {'denseLayer1': 256, 'actFuncL1': 'relu', 'denseLayer2': 64, 'actFuncL2': 'relu', \n",
    "         'actFuncLast': 'sigmoid', 'lr': 0.09539879737836925, 'beta_1': 0.85}\n",
    "\n",
    "log, model = agent.train_model_on(bconf, data_partitions='test', epochs=50, batch_size=512)"
   ]
  },
  {
   "cell_type": "code",
   "execution_count": 35,
   "metadata": {},
   "outputs": [
    {
     "data": {
      "image/png": "[encoded data removed]",
      "text/plain": [
       "<Figure size 432x288 with 1 Axes>"
      ]
     },
     "metadata": {
      "needs_background": "light"
     },
     "output_type": "display_data"
    }
   ],
   "source": [
    "plot_epochs(log)"
   ]
  },
  {
   "cell_type": "code",
   "execution_count": 36,
   "metadata": {},
   "outputs": [
    {
     "data": {
      "image/png": "[encoded data removed]",
      "text/plain": [
       "<Figure size 432x288 with 1 Axes>"
      ]
     },
     "metadata": {
      "needs_background": "light"
     },
     "output_type": "display_data"
    }
   ],
   "source": [
    "plot_epochs(log, ['acc'])"
   ]
  },
  {
   "cell_type": "markdown",
   "metadata": {},
   "source": [
    "## Decision Trees"
   ]
  },
  {
   "cell_type": "code",
   "execution_count": 48,
   "metadata": {},
   "outputs": [],
   "source": [
    "from sklearn.linear_model import LogisticRegression\n",
    "\n",
    "def build_model_logregr(config):\n",
    "    # Notice that I don't use random_state=RND_SEED now.\n",
    "    return LogisticRegression(**config)"
   ]
  },
  {
   "cell_type": "code",
   "execution_count": 49,
   "metadata": {},
   "outputs": [],
   "source": [
    "agnt_logr = Agent(X_res, y_res, build_model=build_model_logregr)"
   ]
  },
  {
   "cell_type": "code",
   "execution_count": 50,
   "metadata": {},
   "outputs": [
    {
     "name": "stdout",
     "output_type": "stream",
     "text": [
      "Training on 57495 samples, testing on 6389 samples.\n",
      "                     | loss       | val_loss\n",
      "\u001B[36mTraining session: 1  | 7.1620e-01 | 7.0997e-01**\u001B[0m\n",
      "-----------------------------------------------\n",
      "Average values:      | 7.1620e-01 | 7.0997e-01\n",
      "\n"
     ]
    },
    {
     "data": {
      "text/plain": [
       "((0.7162014088181581, 0.7099702613867584),\n",
       " LogisticRegression(C=0.001, random_state=1))"
      ]
     },
     "execution_count": 50,
     "metadata": {},
     "output_type": "execute_result"
    }
   ],
   "source": [
    "config_logregr = dict(C=0.001, penalty='l2', random_state=1)\n",
    "agnt_logr.train_model_on(config_logregr, print_sessions=True)"
   ]
  },
  {
   "cell_type": "code",
   "execution_count": 51,
   "metadata": {},
   "outputs": [],
   "source": [
    "from biva.utils import dict_to_param_space"
   ]
  },
  {
   "cell_type": "code",
   "execution_count": 57,
   "metadata": {},
   "outputs": [
    {
     "name": "stdout",
     "output_type": "stream",
     "text": [
      "'C'       : [1.e-03 1.e-02 1.e-01 1.e+00 1.e+01 1.e+02 1.e+03] (7), \n",
      "'penalty' : ['l2', 'none'] (2)\n",
      "Total number of grid cofigurations: 1.40e+01 | 14\n",
      "Total number of acs  cofigurations: 9.00e+00 | 9\n"
     ]
    }
   ],
   "source": [
    "params = {\"C\":       np.logspace(-3,3,7), \n",
    "          \"penalty\": ['l2', 'none']}\n",
    "\n",
    "params = dict_to_param_space(params)\n",
    "print(format_parameter_space(params))"
   ]
  },
  {
   "cell_type": "code",
   "execution_count": 58,
   "metadata": {},
   "outputs": [
    {
     "name": "stdout",
     "output_type": "stream",
     "text": [
      "random for Hyperparameter: C, penalty\n",
      "Current configuration: {'C': 1.000000e-03, 'penalty': l2}\n",
      " Variance: 8.393947e-01, Bias: 8.388208e-01, HyperParams: {'C': 1.000000e+03, 'penalty': none}, Time: 0:00:01\n",
      " Variance: 8.366988e-01, Bias: 8.367641e-01, HyperParams: {'C': 1.000000e+01, 'penalty': l2}, Time: 0:00:01\n",
      " Variance: 8.406644e-01, Bias: 8.417688e-01, HyperParams: {'C': 1.000000e+00, 'penalty': none}, Time: 0:00:01\n",
      " Variance: 8.411340e-01, Bias: 8.410688e-01, HyperParams: {'C': 1.000000e+01, 'penalty': none}, Time: 0:00:01\n",
      " Variance: 8.360553e-01, Bias: 8.361379e-01, HyperParams: {'C': 1.000000e-02, 'penalty': none}, Time: 0:00:01\n",
      "Min. Variance: 8.360553e-01, Best HyperParams: {'C': 0.01, 'penalty': 'none'}, Time: 0:00:06\n",
      "\n",
      "Best config: {'C': 0.01, 'penalty': 'none'}\n"
     ]
    },
    {
     "data": {
      "text/plain": [
       "{'C': 0.01, 'penalty': 'none'}"
      ]
     },
     "execution_count": 58,
     "metadata": {},
     "output_type": "execute_result"
    }
   ],
   "source": [
    "var, bconf_logregr, logreger, = agnt_logr.scan('random', params, random_samples=5)\n",
    "bconf_logregr"
   ]
  },
  {
   "cell_type": "markdown",
   "metadata": {},
   "source": [
    "##### Scoring parameter can be passed for any sklear model."
   ]
  },
  {
   "cell_type": "code",
   "execution_count": 59,
   "metadata": {
    "scrolled": false
   },
   "outputs": [
    {
     "name": "stdout",
     "output_type": "stream",
     "text": [
      "Training on 57495 samples, testing on 6389 samples.\n",
      "                     | adjusted_rand_score | val_adjusted_rand_score\n",
      "\u001B[36mTraining session: 1  | 4.7526e-01 | 4.6327e-01**\u001B[0m\n",
      "-----------------------------------------------\n",
      "Average values:      | 4.7526e-01 | 4.6327e-01\n",
      "\n"
     ]
    }
   ],
   "source": [
    "res, model = agnt_logr.train_model_on(bconf_logregr, scoring='adjusted_rand_score')"
   ]
  },
  {
   "cell_type": "markdown",
   "metadata": {},
   "source": [
    "<a id=\"Unbalanced_data\"></a>\n",
    "## [Unbalanced data](#content)"
   ]
  },
  {
   "cell_type": "markdown",
   "metadata": {},
   "source": [
    "###### Don't forget to pass a correct input shape"
   ]
  },
  {
   "cell_type": "code",
   "execution_count": 15,
   "metadata": {},
   "outputs": [],
   "source": [
    "from sklearn.model_selection import StratifiedKFold\n",
    "\n",
    "def build_model_keras(config):\n",
    "    model = Sequential()\n",
    "    model.add(Dense(config['denseLayer1'], activation=config['actFuncL1'], input_dim=X.shape[1]))\n",
    "    model.add(Dense(config['denseLayer2'], activation=config['actFuncL2']))\n",
    "    model.add(Flatten())\n",
    "    model.add(Dense(1, activation=config['actFuncLast']))\n",
    "    lm = tf.keras.optimizers.Adadelta(lr=config['lr'])\n",
    "    model.compile(loss=\"binary_crossentropy\", optimizer=lm, metrics=['acc'])\n",
    "    return model"
   ]
  },
  {
   "cell_type": "markdown",
   "metadata": {},
   "source": [
    "Use `stratify` argument to split the data into partitions in a stratified fashion for unbalanced data.\\\n",
    "You could also pass a `StratifiedKFold` to a `splitter` argument to improve cross-validation."
   ]
  },
  {
   "cell_type": "code",
   "execution_count": 23,
   "metadata": {},
   "outputs": [],
   "source": [
    "callbacks = [tf.keras.callbacks.EarlyStopping(monitor='loss', min_delta=0.001, patience=3)]\n",
    "sfold = StratifiedKFold(5)\n",
    "# \n",
    "agent = Agent(X, y, build_model=build_model_keras, callbacks=callbacks, stratify=True, splitter=sfold, val_split=0.05)"
   ]
  },
  {
   "cell_type": "code",
   "execution_count": 24,
   "metadata": {},
   "outputs": [
    {
     "name": "stdout",
     "output_type": "stream",
     "text": [
      "Training on 42950 samples, testing on 2261 samples.\n",
      "                     | loss       | val_loss\n",
      "\u001B[36mTraining session: 1  | 2.4589e-01 | 2.3991e-01**\u001B[0m\n",
      "\u001B[36mTraining session: 2  | 2.4205e-01 | 2.3147e-01**\u001B[0m\n",
      "-----------------------------------------------\n",
      "Average values:      | 2.4397e-01 | 2.3569e-01\n",
      "\n",
      "Wall time: 49 s\n"
     ]
    }
   ],
   "source": [
    "%%time\n",
    "bconf = {'denseLayer1': 256, 'actFuncL1': 'relu', 'denseLayer2': 64, 'actFuncL2': 'relu', \n",
    "         'actFuncLast': 'sigmoid', 'epochs': 5, 'lr': 0.09539879737836925, 'beta_1': 0.85}\n",
    "\n",
    "log, model = agent.train_model_on(bconf, n_trainings=2, data_partitions='test', target='variance', epochs=500, batch_size=256)"
   ]
  },
  {
   "cell_type": "code",
   "execution_count": 27,
   "metadata": {},
   "outputs": [],
   "source": [
    "from biva.utils.metrics import confusion_matrix_by_threshold\n",
    "from biva.utils.plotters import plot_confusion_matrix"
   ]
  },
  {
   "cell_type": "markdown",
   "metadata": {},
   "source": [
    "Now let's test on our test data\n",
    "\n",
    "**Default confusion metrics (thresh=0.5)**"
   ]
  },
  {
   "cell_type": "code",
   "execution_count": 31,
   "metadata": {},
   "outputs": [
    {
     "data": {
      "image/png": "[encoded data removed]",
      "text/plain": [
       "<Figure size 432x288 with 2 Axes>"
      ]
     },
     "metadata": {
      "needs_background": "light"
     },
     "output_type": "display_data"
    }
   ],
   "source": [
    "y_pred = model.predict(agent.test_data)\n",
    "y_true = agent.test_y\n",
    "cmat = confusion_matrix_by_threshold(y_true, y_pred)\n",
    "plot_confusion_matrix(cmat)"
   ]
  },
  {
   "cell_type": "markdown",
   "metadata": {},
   "source": [
    "**Context**\n",
    "\n",
    "* **True positive** - client subscribed a term deposit just as predicted. Income. (**maximize**)\n",
    "* **False positive** - client did not subscribe to a term deposit just as predicted, so we might as well haven't wasted our time.(**maximize**)\n",
    "* **False negative** - predicted that client *would not* subscribe, but he actually would! Income waste. (**minimize**)\n",
    "* **False positive** - predicted that client *would* subscribe, but he didn't. Time waste.\n",
    "\n",
    "So taken into account our group sizes and that we want to maximize icome and minimise time wasted we conclude that **tp**, **tn** and **fn** are of key importance."
   ]
  },
  {
   "cell_type": "code",
   "execution_count": 32,
   "metadata": {},
   "outputs": [],
   "source": [
    "from biva.utils.metrics import classification_metrics, classification_metrics_by_threshold, get_best_thres\n",
    "from biva.utils.plotters import plot_metrics_per_threshold"
   ]
  },
  {
   "cell_type": "code",
   "execution_count": 33,
   "metadata": {},
   "outputs": [
    {
     "data": {
      "text/html": [
       "<div>\n",
       "<style scoped>\n",
       "    .dataframe tbody tr th:only-of-type {\n",
       "        vertical-align: middle;\n",
       "    }\n",
       "\n",
       "    .dataframe tbody tr th {\n",
       "        vertical-align: top;\n",
       "    }\n",
       "\n",
       "    .dataframe thead th {\n",
       "        text-align: right;\n",
       "    }\n",
       "</style>\n",
       "<table border=\"1\" class=\"dataframe\">\n",
       "  <thead>\n",
       "    <tr style=\"text-align: right;\">\n",
       "      <th></th>\n",
       "      <th>accuracy</th>\n",
       "      <th>precision</th>\n",
       "      <th>recall</th>\n",
       "      <th>f1_score</th>\n",
       "      <th>f2_score</th>\n",
       "      <th>roc_auc</th>\n",
       "      <th>matthews_corrcoef</th>\n",
       "      <th>cohen_kappa</th>\n",
       "      <th>true_positive_rate</th>\n",
       "      <th>true_negative_rate</th>\n",
       "      <th>positive_predictive_value</th>\n",
       "      <th>negative_predictive_value</th>\n",
       "      <th>false_positive_rate</th>\n",
       "      <th>false_negative_rate</th>\n",
       "      <th>false_discovery_rate</th>\n",
       "      <th>threshold</th>\n",
       "    </tr>\n",
       "  </thead>\n",
       "  <tbody>\n",
       "    <tr>\n",
       "      <th>0</th>\n",
       "      <td>0.287483</td>\n",
       "      <td>0.141258</td>\n",
       "      <td>1.000000</td>\n",
       "      <td>0.247548</td>\n",
       "      <td>0.451294</td>\n",
       "      <td>0.596443</td>\n",
       "      <td>0.165066</td>\n",
       "      <td>0.053048</td>\n",
       "      <td>1.000000</td>\n",
       "      <td>0.192886</td>\n",
       "      <td>0.141258</td>\n",
       "      <td>1.000000</td>\n",
       "      <td>0.807114</td>\n",
       "      <td>0.000000</td>\n",
       "      <td>0.858742</td>\n",
       "      <td>0.01</td>\n",
       "    </tr>\n",
       "    <tr>\n",
       "      <th>1</th>\n",
       "      <td>0.455108</td>\n",
       "      <td>0.176589</td>\n",
       "      <td>0.996226</td>\n",
       "      <td>0.300000</td>\n",
       "      <td>0.516634</td>\n",
       "      <td>0.689746</td>\n",
       "      <td>0.257912</td>\n",
       "      <td>0.125967</td>\n",
       "      <td>0.996226</td>\n",
       "      <td>0.383267</td>\n",
       "      <td>0.176589</td>\n",
       "      <td>0.998695</td>\n",
       "      <td>0.616733</td>\n",
       "      <td>0.003774</td>\n",
       "      <td>0.823411</td>\n",
       "      <td>0.02</td>\n",
       "    </tr>\n",
       "    <tr>\n",
       "      <th>2</th>\n",
       "      <td>0.561256</td>\n",
       "      <td>0.208032</td>\n",
       "      <td>0.977358</td>\n",
       "      <td>0.343046</td>\n",
       "      <td>0.561822</td>\n",
       "      <td>0.741685</td>\n",
       "      <td>0.312573</td>\n",
       "      <td>0.185657</td>\n",
       "      <td>0.977358</td>\n",
       "      <td>0.506012</td>\n",
       "      <td>0.208032</td>\n",
       "      <td>0.994094</td>\n",
       "      <td>0.493988</td>\n",
       "      <td>0.022642</td>\n",
       "      <td>0.791968</td>\n",
       "      <td>0.03</td>\n",
       "    </tr>\n",
       "    <tr>\n",
       "      <th>3</th>\n",
       "      <td>0.629368</td>\n",
       "      <td>0.235457</td>\n",
       "      <td>0.962264</td>\n",
       "      <td>0.378338</td>\n",
       "      <td>0.594960</td>\n",
       "      <td>0.773717</td>\n",
       "      <td>0.352491</td>\n",
       "      <td>0.234098</td>\n",
       "      <td>0.962264</td>\n",
       "      <td>0.585170</td>\n",
       "      <td>0.235457</td>\n",
       "      <td>0.991511</td>\n",
       "      <td>0.414830</td>\n",
       "      <td>0.037736</td>\n",
       "      <td>0.764543</td>\n",
       "      <td>0.04</td>\n",
       "    </tr>\n",
       "    <tr>\n",
       "      <th>4</th>\n",
       "      <td>0.675807</td>\n",
       "      <td>0.256757</td>\n",
       "      <td>0.932075</td>\n",
       "      <td>0.402608</td>\n",
       "      <td>0.610781</td>\n",
       "      <td>0.786930</td>\n",
       "      <td>0.373350</td>\n",
       "      <td>0.268096</td>\n",
       "      <td>0.932075</td>\n",
       "      <td>0.641784</td>\n",
       "      <td>0.256757</td>\n",
       "      <td>0.986143</td>\n",
       "      <td>0.358216</td>\n",
       "      <td>0.067925</td>\n",
       "      <td>0.743243</td>\n",
       "      <td>0.05</td>\n",
       "    </tr>\n",
       "    <tr>\n",
       "      <th>...</th>\n",
       "      <td>...</td>\n",
       "      <td>...</td>\n",
       "      <td>...</td>\n",
       "      <td>...</td>\n",
       "      <td>...</td>\n",
       "      <td>...</td>\n",
       "      <td>...</td>\n",
       "      <td>...</td>\n",
       "      <td>...</td>\n",
       "      <td>...</td>\n",
       "      <td>...</td>\n",
       "      <td>...</td>\n",
       "      <td>...</td>\n",
       "      <td>...</td>\n",
       "      <td>...</td>\n",
       "      <td>...</td>\n",
       "    </tr>\n",
       "    <tr>\n",
       "      <th>94</th>\n",
       "      <td>0.883680</td>\n",
       "      <td>1.000000</td>\n",
       "      <td>0.007547</td>\n",
       "      <td>0.014981</td>\n",
       "      <td>0.009416</td>\n",
       "      <td>0.503774</td>\n",
       "      <td>0.081661</td>\n",
       "      <td>0.013249</td>\n",
       "      <td>0.007547</td>\n",
       "      <td>1.000000</td>\n",
       "      <td>1.000000</td>\n",
       "      <td>0.883577</td>\n",
       "      <td>0.000000</td>\n",
       "      <td>0.992453</td>\n",
       "      <td>0.000000</td>\n",
       "      <td>0.95</td>\n",
       "    </tr>\n",
       "    <tr>\n",
       "      <th>95</th>\n",
       "      <td>0.883238</td>\n",
       "      <td>1.000000</td>\n",
       "      <td>0.003774</td>\n",
       "      <td>0.007519</td>\n",
       "      <td>0.004713</td>\n",
       "      <td>0.501887</td>\n",
       "      <td>0.057730</td>\n",
       "      <td>0.006643</td>\n",
       "      <td>0.003774</td>\n",
       "      <td>1.000000</td>\n",
       "      <td>1.000000</td>\n",
       "      <td>0.883186</td>\n",
       "      <td>0.000000</td>\n",
       "      <td>0.996226</td>\n",
       "      <td>0.000000</td>\n",
       "      <td>0.96</td>\n",
       "    </tr>\n",
       "    <tr>\n",
       "      <th>96</th>\n",
       "      <td>0.883238</td>\n",
       "      <td>1.000000</td>\n",
       "      <td>0.003774</td>\n",
       "      <td>0.007519</td>\n",
       "      <td>0.004713</td>\n",
       "      <td>0.501887</td>\n",
       "      <td>0.057730</td>\n",
       "      <td>0.006643</td>\n",
       "      <td>0.003774</td>\n",
       "      <td>1.000000</td>\n",
       "      <td>1.000000</td>\n",
       "      <td>0.883186</td>\n",
       "      <td>0.000000</td>\n",
       "      <td>0.996226</td>\n",
       "      <td>0.000000</td>\n",
       "      <td>0.97</td>\n",
       "    </tr>\n",
       "    <tr>\n",
       "      <th>97</th>\n",
       "      <td>0.882795</td>\n",
       "      <td>0.000000</td>\n",
       "      <td>0.000000</td>\n",
       "      <td>0.000000</td>\n",
       "      <td>0.000000</td>\n",
       "      <td>0.500000</td>\n",
       "      <td>0.000000</td>\n",
       "      <td>0.000000</td>\n",
       "      <td>0.000000</td>\n",
       "      <td>1.000000</td>\n",
       "      <td>NaN</td>\n",
       "      <td>0.882795</td>\n",
       "      <td>0.000000</td>\n",
       "      <td>1.000000</td>\n",
       "      <td>NaN</td>\n",
       "      <td>0.98</td>\n",
       "    </tr>\n",
       "    <tr>\n",
       "      <th>98</th>\n",
       "      <td>0.882795</td>\n",
       "      <td>0.000000</td>\n",
       "      <td>0.000000</td>\n",
       "      <td>0.000000</td>\n",
       "      <td>0.000000</td>\n",
       "      <td>0.500000</td>\n",
       "      <td>0.000000</td>\n",
       "      <td>0.000000</td>\n",
       "      <td>0.000000</td>\n",
       "      <td>1.000000</td>\n",
       "      <td>NaN</td>\n",
       "      <td>0.882795</td>\n",
       "      <td>0.000000</td>\n",
       "      <td>1.000000</td>\n",
       "      <td>NaN</td>\n",
       "      <td>0.99</td>\n",
       "    </tr>\n",
       "  </tbody>\n",
       "</table>\n",
       "<p>99 rows × 16 columns</p>\n",
       "</div>"
      ],
      "text/plain": [
       "    accuracy  precision    recall  f1_score  f2_score   roc_auc  \\\n",
       "0   0.287483   0.141258  1.000000  0.247548  0.451294  0.596443   \n",
       "1   0.455108   0.176589  0.996226  0.300000  0.516634  0.689746   \n",
       "2   0.561256   0.208032  0.977358  0.343046  0.561822  0.741685   \n",
       "3   0.629368   0.235457  0.962264  0.378338  0.594960  0.773717   \n",
       "4   0.675807   0.256757  0.932075  0.402608  0.610781  0.786930   \n",
       "..       ...        ...       ...       ...       ...       ...   \n",
       "94  0.883680   1.000000  0.007547  0.014981  0.009416  0.503774   \n",
       "95  0.883238   1.000000  0.003774  0.007519  0.004713  0.501887   \n",
       "96  0.883238   1.000000  0.003774  0.007519  0.004713  0.501887   \n",
       "97  0.882795   0.000000  0.000000  0.000000  0.000000  0.500000   \n",
       "98  0.882795   0.000000  0.000000  0.000000  0.000000  0.500000   \n",
       "\n",
       "    matthews_corrcoef  cohen_kappa  true_positive_rate  true_negative_rate  \\\n",
       "0            0.165066     0.053048            1.000000            0.192886   \n",
       "1            0.257912     0.125967            0.996226            0.383267   \n",
       "2            0.312573     0.185657            0.977358            0.506012   \n",
       "3            0.352491     0.234098            0.962264            0.585170   \n",
       "4            0.373350     0.268096            0.932075            0.641784   \n",
       "..                ...          ...                 ...                 ...   \n",
       "94           0.081661     0.013249            0.007547            1.000000   \n",
       "95           0.057730     0.006643            0.003774            1.000000   \n",
       "96           0.057730     0.006643            0.003774            1.000000   \n",
       "97           0.000000     0.000000            0.000000            1.000000   \n",
       "98           0.000000     0.000000            0.000000            1.000000   \n",
       "\n",
       "    positive_predictive_value  negative_predictive_value  false_positive_rate  \\\n",
       "0                    0.141258                   1.000000             0.807114   \n",
       "1                    0.176589                   0.998695             0.616733   \n",
       "2                    0.208032                   0.994094             0.493988   \n",
       "3                    0.235457                   0.991511             0.414830   \n",
       "4                    0.256757                   0.986143             0.358216   \n",
       "..                        ...                        ...                  ...   \n",
       "94                   1.000000                   0.883577             0.000000   \n",
       "95                   1.000000                   0.883186             0.000000   \n",
       "96                   1.000000                   0.883186             0.000000   \n",
       "97                        NaN                   0.882795             0.000000   \n",
       "98                        NaN                   0.882795             0.000000   \n",
       "\n",
       "    false_negative_rate  false_discovery_rate  threshold  \n",
       "0              0.000000              0.858742       0.01  \n",
       "1              0.003774              0.823411       0.02  \n",
       "2              0.022642              0.791968       0.03  \n",
       "3              0.037736              0.764543       0.04  \n",
       "4              0.067925              0.743243       0.05  \n",
       "..                  ...                   ...        ...  \n",
       "94             0.992453              0.000000       0.95  \n",
       "95             0.996226              0.000000       0.96  \n",
       "96             0.996226              0.000000       0.97  \n",
       "97             1.000000                   NaN       0.98  \n",
       "98             1.000000                   NaN       0.99  \n",
       "\n",
       "[99 rows x 16 columns]"
      ]
     },
     "execution_count": 33,
     "metadata": {},
     "output_type": "execute_result"
    }
   ],
   "source": [
    "mbt = classification_metrics_by_threshold(y_true, y_pred)\n",
    "mbt"
   ]
  },
  {
   "cell_type": "markdown",
   "metadata": {},
   "source": [
    "**Best confusion matrix**"
   ]
  },
  {
   "cell_type": "code",
   "execution_count": 34,
   "metadata": {},
   "outputs": [
    {
     "data": {
      "text/plain": [
       "(0.19, 0.5388840476048409)"
      ]
     },
     "execution_count": 34,
     "metadata": {},
     "output_type": "execute_result"
    }
   ],
   "source": [
    "thr, metric = get_best_thres(mbt, 'matthews_corrcoef')\n",
    "thr, metric"
   ]
  },
  {
   "cell_type": "code",
   "execution_count": 37,
   "metadata": {},
   "outputs": [
    {
     "data": {
      "image/png": "[encoded data removed]",
      "text/plain": [
       "<Figure size 432x288 with 2 Axes>"
      ]
     },
     "metadata": {
      "needs_background": "light"
     },
     "output_type": "display_data"
    }
   ],
   "source": [
    "y_pred = model.predict(agent.test_data)\n",
    "y_true = agent.test_y\n",
    "cmat = confusion_matrix_by_threshold(y_true, y_pred, thr)\n",
    "plot_confusion_matrix(cmat)"
   ]
  },
  {
   "cell_type": "code",
   "execution_count": 38,
   "metadata": {
    "scrolled": true
   },
   "outputs": [
    {
     "data": {
      "image/png": "[encoded data removed]",
      "text/plain": [
       "<Figure size 432x288 with 1 Axes>"
      ]
     },
     "metadata": {
      "needs_background": "light"
     },
     "output_type": "display_data"
    },
    {
     "data": {
      "image/png": "[encoded data removed]",
      "text/plain": [
       "<Figure size 432x288 with 1 Axes>"
      ]
     },
     "metadata": {
      "needs_background": "light"
     },
     "output_type": "display_data"
    },
    {
     "data": {
      "image/png": "[encoded data removed]",
      "text/plain": [
       "<Figure size 432x288 with 1 Axes>"
      ]
     },
     "metadata": {
      "needs_background": "light"
     },
     "output_type": "display_data"
    },
    {
     "data": {
      "image/png": "[encoded data removed]",
      "text/plain": [
       "<Figure size 432x288 with 1 Axes>"
      ]
     },
     "metadata": {
      "needs_background": "light"
     },
     "output_type": "display_data"
    },
    {
     "data": {
      "image/png": "[encoded data removed]",
      "text/plain": [
       "<Figure size 432x288 with 1 Axes>"
      ]
     },
     "metadata": {
      "needs_background": "light"
     },
     "output_type": "display_data"
    },
    {
     "data": {
      "image/png": "[encoded data removed]",
      "text/plain": [
       "<Figure size 432x288 with 1 Axes>"
      ]
     },
     "metadata": {
      "needs_background": "light"
     },
     "output_type": "display_data"
    },
    {
     "data": {
      "image/png": "[encoded data removed]",
      "text/plain": [
       "<Figure size 432x288 with 1 Axes>"
      ]
     },
     "metadata": {
      "needs_background": "light"
     },
     "output_type": "display_data"
    },
    {
     "data": {
      "image/png": "[encoded data removed]",
      "text/plain": [
       "<Figure size 432x288 with 1 Axes>"
      ]
     },
     "metadata": {
      "needs_background": "light"
     },
     "output_type": "display_data"
    },
    {
     "data": {
      "image/png": "[encoded data removed]",
      "text/plain": [
       "<Figure size 432x288 with 1 Axes>"
      ]
     },
     "metadata": {
      "needs_background": "light"
     },
     "output_type": "display_data"
    },
    {
     "data": {
      "image/png": "[encoded data removed]",
      "text/plain": [
       "<Figure size 432x288 with 1 Axes>"
      ]
     },
     "metadata": {
      "needs_background": "light"
     },
     "output_type": "display_data"
    },
    {
     "data": {
      "image/png": "[encoded data removed]",
      "text/plain": [
       "<Figure size 432x288 with 1 Axes>"
      ]
     },
     "metadata": {
      "needs_background": "light"
     },
     "output_type": "display_data"
    },
    {
     "data": {
      "image/png": "[encoded data removed]",
      "text/plain": [
       "<Figure size 432x288 with 1 Axes>"
      ]
     },
     "metadata": {
      "needs_background": "light"
     },
     "output_type": "display_data"
    },
    {
     "data": {
      "image/png": "[encoded data removed]",
      "text/plain": [
       "<Figure size 432x288 with 1 Axes>"
      ]
     },
     "metadata": {
      "needs_background": "light"
     },
     "output_type": "display_data"
    },
    {
     "data": {
      "image/png": "[encoded data removed]",
      "text/plain": [
       "<Figure size 432x288 with 1 Axes>"
      ]
     },
     "metadata": {
      "needs_background": "light"
     },
     "output_type": "display_data"
    },
    {
     "data": {
      "image/png": "[encoded data removed]",
      "text/plain": [
       "<Figure size 432x288 with 1 Axes>"
      ]
     },
     "metadata": {
      "needs_background": "light"
     },
     "output_type": "display_data"
    }
   ],
   "source": [
    "plot_metrics_per_threshold(y_true, y_pred)\n",
    "plt.show()"
   ]
  }
 ],
 "metadata": {
  "jupytext": {
   "formats": "ipynb,py:light"
  },
  "kernelspec": {
   "display_name": "ml",
   "language": "python",
   "name": "ml"
  },
  "language_info": {
   "codemirror_mode": {
    "name": "ipython",
    "version": 3
   },
   "file_extension": ".py",
   "mimetype": "text/x-python",
   "name": "python",
   "nbconvert_exporter": "python",
   "pygments_lexer": "ipython3",
   "version": "3.8.5"
  },
  "varInspector": {
   "cols": {
    "lenName": 16,
    "lenType": 16,
    "lenVar": 40
   },
   "kernels_config": {
    "python": {
     "delete_cmd_postfix": "",
     "delete_cmd_prefix": "del ",
     "library": "var_list.py",
     "varRefreshCmd": "print(var_dic_list())"
    },
    "r": {
     "delete_cmd_postfix": ") ",
     "delete_cmd_prefix": "rm(",
     "library": "var_list.r",
     "varRefreshCmd": "cat(var_dic_list()) "
    }
   },
   "types_to_exclude": [
    "module",
    "function",
    "builtin_function_or_method",
    "instance",
    "_Feature"
   ],
   "window_display": false
  }
 },
 "nbformat": 4,
 "nbformat_minor": 4
}